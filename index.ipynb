{
 "cells": [
  {
   "cell_type": "code",
   "execution_count": null,
   "metadata": {},
   "outputs": [],
   "source": [
    "#hide\n",
    "%load_ext autoreload\n",
    "%autoreload 2\n",
    "from item_clustering.data import *"
   ]
  },
  {
   "cell_type": "markdown",
   "metadata": {},
   "source": [
    "# Item clustering\n",
    "\n",
    "> Cluster the product items and find out the KVI's\n",
    "\n",
    "The documentation website is available at [item_clustering website](https://animated-disco-05e534f1.pages.github.io/)"
   ]
  },
  {
   "cell_type": "markdown",
   "metadata": {},
   "source": [
    "## Pages"
   ]
  },
  {
   "cell_type": "markdown",
   "metadata": {},
   "source": [
    "Description of each page\n",
    "\n",
    "- _Data_: This page takes through the steps of the queries used, data collected and saved. The data saved in these steps is used for the analysis and modeling. The data is saved in the `nbs/data` folder\n",
    "\n",
    "    The data generated from this page is saved in the following format:\n",
    "    - `nbs/data/raw` - The original, immutable data dump.\n",
    "    - `nbs/data/interim` folder - Intermediate data that has been transformed.\n",
    "    - `raw/data/processed` folder - The final, canonical data sets for modeling.\n",
    "    - `raw/data/external` folder - Data from external sources (outside snowflake or in excel sheets or csv files)\n",
    "\n",
    "- _Analysis_: The data collected in the `data` module is used to understand the features and generate profile reports. The reports are saved in the `nbs/reports` folder of the repo\n",
    "    \n",
    "    The reports generated from this page is saved in the following format:\n",
    "    - `nbs/reports/figures` - Any matplotlib or bokeh plots here that are generated from the notebooks. Any images or plots included in the notebooks/documentation will be saved here.\n",
    "\n",
    "- _Models_: Clustering algorithms are used to understand the item segments. The steps outlined in this page takes you through the several algorithms used, best parameters dervied using hyper parameter optmization etc.\n",
    "\n",
    "    The models developed from this page is saved in the following format:\n",
    "    - `nbs/models/dbscan-*` - This folder contains the results of the dbscan clustering algorithm. Each subfolder that starts with `dbscan-*` hosts several iterations of the model based on any changes to the data. The iterations are named after the date that used to train the model (ex: `20210128`).\n",
    "\n",
    "- _Feature importance_: Feature importance for clusters is computed using quantile distance. This page takes you through the method used and any example that may be helpful to understand the concept\n",
    "\n",
    "- _Validation_: Validating the clusters produced is critical to understand which parameters are best for the model"
   ]
  },
  {
   "cell_type": "markdown",
   "metadata": {},
   "source": [
    "## Installation"
   ]
  },
  {
   "cell_type": "markdown",
   "metadata": {},
   "source": [
    "`pip install item_clustering`"
   ]
  }
 ],
 "metadata": {
  "kernelspec": {
   "display_name": "Python 3",
   "language": "python",
   "name": "python3"
  }
 },
 "nbformat": 4,
 "nbformat_minor": 2
}
