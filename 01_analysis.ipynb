{
 "cells": [
  {
   "cell_type": "code",
   "execution_count": null,
   "metadata": {},
   "outputs": [],
   "source": [
    "#default_exp analysis"
   ]
  },
  {
   "cell_type": "markdown",
   "metadata": {},
   "source": [
    "# Analysis\n",
    "\n",
    "> The data collected in the `data` module is used to understand the features and generate profile reports. The reports are saved in the `nbs/reports` folder of the repo"
   ]
  },
  {
   "cell_type": "code",
   "execution_count": null,
   "metadata": {},
   "outputs": [
    {
     "name": "stdout",
     "output_type": "stream",
     "text": [
      "The blackcellmagic extension is already loaded. To reload it, use:\n",
      "  %reload_ext blackcellmagic\n"
     ]
    }
   ],
   "source": [
    "#hide\n",
    "import os\n",
    "import pandas as pd\n",
    "import pandas_profiling\n",
    "from nbdev.showdoc import *\n",
    "\n",
    "# multiple outputs for cell\n",
    "from IPython.core.interactiveshell import InteractiveShell\n",
    "InteractiveShell.ast_node_interactivity = \"all\"\n",
    "\n",
    "# plotting\n",
    "import seaborn as sns\n",
    "import matplotlib\n",
    "import matplotlib.pyplot as plt\n",
    "\n",
    "# plotting options\n",
    "plt.style.use('default')\n",
    "\n",
    "# plotting output options\n",
    "%matplotlib inline\n",
    "%config InlineBackend.figure_format = 'retina'\n",
    "%load_ext blackcellmagic\n",
    "\n",
    "profile_data = True"
   ]
  },
  {
   "cell_type": "markdown",
   "metadata": {},
   "source": [
    "## Load data"
   ]
  },
  {
   "cell_type": "markdown",
   "metadata": {},
   "source": [
    "Load the data from the `nbs/data/processed` folder"
   ]
  },
  {
   "cell_type": "code",
   "execution_count": null,
   "metadata": {},
   "outputs": [],
   "source": [
    "#hide\n",
    "if profile_data:\n",
    "    final_df = pd.read_parquet('data/processed/final_df.parquet')\n",
    "    final_df_std_scaling = pd.read_parquet('data/processed/final_df_std_scaling.parquet')\n",
    "    final_df_robust_scaling = pd.read_parquet('data/processed/final_df_robust_scaling.parquet')"
   ]
  },
  {
   "cell_type": "markdown",
   "metadata": {},
   "source": [
    "## Profile"
   ]
  },
  {
   "cell_type": "markdown",
   "metadata": {},
   "source": [
    "All the pandas profiler reports are saved in the `nbs/reports/pandas_profiling` folder"
   ]
  },
  {
   "cell_type": "markdown",
   "metadata": {},
   "source": [
    "### No scaling"
   ]
  },
  {
   "cell_type": "markdown",
   "metadata": {},
   "source": [
    "Profile the data without scaling. The report is saved in `nbs/reports/pandas_profiler/final_df_profile_no_scaling.html`"
   ]
  },
  {
   "cell_type": "code",
   "execution_count": null,
   "metadata": {},
   "outputs": [
    {
     "name": "stderr",
     "output_type": "stream",
     "text": [
      "Summarize dataset: 100%|██████████| 394/394 [00:55<00:00,  7.04it/s, Completed]                                             \n",
      "Generate report structure: 100%|██████████| 1/1 [00:06<00:00,  6.15s/it]\n",
      "Render HTML: 100%|██████████| 1/1 [00:09<00:00,  9.89s/it]\n",
      "Export report to file: 100%|██████████| 1/1 [00:00<00:00, 28.82it/s]\n"
     ]
    }
   ],
   "source": [
    "#hide\n",
    "if profile_data:\n",
    "    from pandas_profiling import ProfileReport\n",
    "    profile = ProfileReport(final_df, title='Final df - No scaling')\n",
    "    profile.to_file(\"reports/pandas_profiler/final_df_profile_no_scaling.html\")"
   ]
  },
  {
   "cell_type": "markdown",
   "metadata": {},
   "source": [
    "### Standard scaling"
   ]
  },
  {
   "cell_type": "markdown",
   "metadata": {},
   "source": [
    "Profile the data with standard scaling. The report is saved in `nbs/reports/pandas_profiler/final_df_std_scaling_profile.html`"
   ]
  },
  {
   "cell_type": "code",
   "execution_count": null,
   "metadata": {},
   "outputs": [
    {
     "name": "stderr",
     "output_type": "stream",
     "text": [
      "Summarize dataset: 100%|██████████| 393/393 [00:44<00:00,  8.93it/s, Completed]                                             \n",
      "Generate report structure: 100%|██████████| 1/1 [00:05<00:00,  5.66s/it]\n",
      "Render HTML: 100%|██████████| 1/1 [00:09<00:00,  9.79s/it]\n",
      "Export report to file: 100%|██████████| 1/1 [00:00<00:00, 21.72it/s]\n"
     ]
    }
   ],
   "source": [
    "#hide\n",
    "if profile_data:\n",
    "    from pandas_profiling import ProfileReport\n",
    "    profile = ProfileReport(final_df_std_scaling, title='Final df - Standard scaling')\n",
    "    profile.to_file(\"reports/pandas_profiler/final_df_std_scaling_profile.html\")"
   ]
  },
  {
   "cell_type": "markdown",
   "metadata": {},
   "source": [
    "### Robust scaling"
   ]
  },
  {
   "cell_type": "markdown",
   "metadata": {},
   "source": [
    "Profile the data with robust scaling. The report is saved in `nbs/reports/pandas_profiler/final_df_robust_scaling_profile.html`"
   ]
  },
  {
   "cell_type": "code",
   "execution_count": null,
   "metadata": {},
   "outputs": [
    {
     "name": "stderr",
     "output_type": "stream",
     "text": [
      "Summarize dataset: 100%|██████████| 393/393 [00:47<00:00,  8.35it/s, Completed]                                             \n",
      "Generate report structure: 100%|██████████| 1/1 [00:05<00:00,  5.81s/it]\n",
      "Render HTML: 100%|██████████| 1/1 [00:09<00:00,  9.39s/it]\n",
      "Export report to file: 100%|██████████| 1/1 [00:00<00:00, 30.55it/s]\n"
     ]
    }
   ],
   "source": [
    "#hide\n",
    "if profile_data:\n",
    "    from pandas_profiling import ProfileReport\n",
    "    profile = ProfileReport(final_df_robust_scaling, title='Final df - Robust scaling')\n",
    "    profile.to_file(\"reports/pandas_profiler/final_df_robust_scaling_profile.html\")"
   ]
  },
  {
   "cell_type": "code",
   "execution_count": null,
   "metadata": {},
   "outputs": [
    {
     "name": "stdout",
     "output_type": "stream",
     "text": [
      "Converted 00_data.ipynb.\n",
      "Converted 01_analysis.ipynb.\n",
      "Converted 02_models.ipynb.\n",
      "Converted 03_feature_importance.ipynb.\n",
      "Converted 04_validation.ipynb.\n",
      "Converted index.ipynb.\n"
     ]
    }
   ],
   "source": [
    "#hide\n",
    "from nbdev.export import notebook2script\n",
    "notebook2script()"
   ]
  },
  {
   "cell_type": "code",
   "execution_count": null,
   "metadata": {},
   "outputs": [],
   "source": []
  }
 ],
 "metadata": {
  "kernelspec": {
   "display_name": "Python 3.10.0 64-bit ('item_clustering': conda)",
   "language": "python",
   "name": "python3"
  }
 },
 "nbformat": 4,
 "nbformat_minor": 2
}
