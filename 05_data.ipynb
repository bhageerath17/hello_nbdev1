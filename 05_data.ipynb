{
 "cells": [
  {
   "cell_type": "code",
   "execution_count": null,
   "metadata": {},
   "outputs": [],
   "source": [
    "#default_exp data"
   ]
  },
  {
   "cell_type": "markdown",
   "metadata": {},
   "source": [
    "# Data\n",
    "\n",
    "> This page takes through the steps of the queries used, data collected and saved. The data saved in these steps is used for the analysis and modeling. \n",
    "\n",
    "The data is saved in the following format:\n",
    "- `nbs/data/raw` - The original, immutable data dump.\n",
    "- `nbs/data/interim` folder - Intermediate data that has been transformed.\n",
    "- `raw/data/processed` folder - The final, canonical data sets for modeling.\n",
    "- `raw/data/external` folder - Data from external sources (outside snowflake or in excel sheets or csv files)"
   ]
  },
  {
   "cell_type": "code",
   "execution_count": null,
   "metadata": {},
   "outputs": [],
   "source": [
    "\n",
    "#hide\n",
    "import os\n",
    "from nbdev.showdoc import *\n",
    "from dotenv import load_dotenv\n",
    "\n",
    "development = False\n",
    "\n",
    "# load the user and password for snowflake\"\n",
    "if development:\n",
    "    load_dotenv(\"../.secrets\")\n",
    "    password = os.environ[\"MY_SNOWFLAKE_PASSWORD\"]\n",
    "    user = os.environ[\"MY_SNOWFLAKE_USER\"]"
   ]
  },
  {
   "cell_type": "code",
   "execution_count": null,
   "metadata": {},
   "outputs": [],
   "source": [
    "#hide\n",
    "import os\n",
    "import snowflake.connector\n",
    "\n",
    "# Data related\n",
    "import pandas as pd\n",
    "import numpy as np\n",
    "\n",
    "# multiple outputs for cell\n",
    "from IPython.core.interactiveshell import InteractiveShell\n",
    "InteractiveShell.ast_node_interactivity = \"all\"\n",
    "\n",
    "# plotting\n",
    "import seaborn as sns\n",
    "import matplotlib\n",
    "import matplotlib.pyplot as plt\n",
    "\n",
    "# plotting options\n",
    "plt.style.use('default')\n",
    "\n",
    "# plotting output options\n",
    "%matplotlib inline\n",
    "%config InlineBackend.figure_format = 'retina'\n",
    "%load_ext blackcellmagic\n",
    "\n",
    "use_snowflake = False # set to False if the data is available the nbs/data subfolders"
   ]
  },
  {
   "cell_type": "markdown",
   "metadata": {},
   "source": [
    "\n",
    "## Connection"
   ]
  },
  {
   "cell_type": "code",
   "execution_count": null,
   "metadata": {},
   "outputs": [],
   "source": [
    "#hide\n",
    "if use_snowflake:\n",
    "\n",
    "    con = snowflake.connector.connect(\n",
    "    account=\"shipt.us-east-1\",\n",
    "    user=user,\n",
    "    password=password,\n",
    "    database=\"PRD_DATALAKEHOUSE\",\n",
    "    warehouse=\"PRD_DATA_SCIENTIST_WHS\",\n",
    "    authenticator=\"https://shipt.okta.com\"\n",
    "    )"
   ]
  },
  {
   "cell_type": "markdown",
   "metadata": {},
   "source": [
    "## Filters"
   ]
  },
  {
   "cell_type": "markdown",
   "metadata": {},
   "source": [
    "December 2021 data for Detroit metro and Meijer store is used for the analysis"
   ]
  },
  {
   "cell_type": "code",
   "execution_count": null,
   "metadata": {},
   "outputs": [],
   "source": [
    "Month = '2021-12-01'\n",
    "Metro = 'Detroit'\n",
    "Retailer = 'Meijer'"
   ]
  },
  {
   "cell_type": "markdown",
   "metadata": {},
   "source": [
    "## Order financials "
   ]
  },
  {
   "cell_type": "markdown",
   "metadata": {},
   "source": [
    "### Query"
   ]
  },
  {
   "cell_type": "code",
   "execution_count": null,
   "metadata": {},
   "outputs": [],
   "source": [
    "order_financials_query = \"\"\"\n",
    "SELECT date_trunc(\n",
    "    'month', convert_timezone('US/Central', delivered_at_utc)\n",
    "    )::date AS MONTH,\n",
    "    M.NAME AS METRO,\n",
    "    s.name AS RETAILER,\n",
    "    SUM(GMV) AS GMV,\n",
    "    COUNT(DISTINCT o.id) AS ORDER_VOLUME\n",
    "FROM PRD_DATALAKEHOUSE.DATA_SCIENCE.ORDER_FINANCIALS o\n",
    "INNER JOIN PRD_DATALAKEHOUSE.OG_VIEWS.METROS m ON m.id = o.metro_id\n",
    "INNER JOIN PRD_DATALAKEHOUSE.OG_VIEWS.STORES s ON s.id = o.store_id\n",
    "WHERE o.status ='delivered'\n",
    "  AND convert_timezone(\n",
    "    'UTC', 'US/Central', DELIVERED_AT_UTC::timestamp_ntz\n",
    "    )::date BETWEEN '2020-01-01' AND '2021-12-31'\n",
    "  AND o.order_type = 'Marketplace'\n",
    "GROUP BY MONTH,\n",
    "         METRO,\n",
    "         RETAILER;\n",
    "\"\"\""
   ]
  },
  {
   "cell_type": "markdown",
   "metadata": {},
   "source": [
    "### Save data"
   ]
  },
  {
   "cell_type": "code",
   "execution_count": null,
   "metadata": {},
   "outputs": [
    {
     "name": "stdout",
     "output_type": "stream",
     "text": [
      "00_data.ipynb                \u001b[34mdata\u001b[m\u001b[m/\r\n",
      "01_analysis.ipynb            index.ipynb\r\n",
      "02_models.ipynb              \u001b[34mmodels\u001b[m\u001b[m/\r\n",
      "03_feature_importance.ipynb  \u001b[34mreports\u001b[m\u001b[m/\r\n",
      "04_validation.ipynb\r\n"
     ]
    }
   ],
   "source": [
    "ls"
   ]
  },
  {
   "cell_type": "code",
   "execution_count": null,
   "metadata": {},
   "outputs": [
    {
     "ename": "FileNotFoundError",
     "evalue": "[Errno 2] No such file or directory: 'data/raw/order_financials.parquet'",
     "output_type": "error",
     "traceback": [
      "\u001b[0;31m---------------------------------------------------------------------------\u001b[0m",
      "\u001b[0;31mFileNotFoundError\u001b[0m                         Traceback (most recent call last)",
      "Input \u001b[0;32mIn [7]\u001b[0m, in \u001b[0;36m<module>\u001b[0;34m\u001b[0m\n\u001b[1;32m      5\u001b[0m     df\u001b[38;5;241m.\u001b[39mto_parquet(\u001b[38;5;124m'\u001b[39m\u001b[38;5;124mdata/raw/order_financials.parquet\u001b[39m\u001b[38;5;124m'\u001b[39m)\n\u001b[1;32m      6\u001b[0m \u001b[38;5;28;01melse\u001b[39;00m:\n\u001b[0;32m----> 7\u001b[0m     df \u001b[38;5;241m=\u001b[39m \u001b[43mpd\u001b[49m\u001b[38;5;241;43m.\u001b[39;49m\u001b[43mread_parquet\u001b[49m\u001b[43m(\u001b[49m\u001b[38;5;124;43m'\u001b[39;49m\u001b[38;5;124;43mdata/raw/order_financials.parquet\u001b[39;49m\u001b[38;5;124;43m'\u001b[39;49m\u001b[43m)\u001b[49m\n",
      "File \u001b[0;32m~/PycharmProjects/shipt-data-processing/venv/lib/python3.9/site-packages/pandas/io/parquet.py:495\u001b[0m, in \u001b[0;36mread_parquet\u001b[0;34m(path, engine, columns, storage_options, use_nullable_dtypes, **kwargs)\u001b[0m\n\u001b[1;32m    442\u001b[0m \u001b[38;5;124;03m\"\"\"\u001b[39;00m\n\u001b[1;32m    443\u001b[0m \u001b[38;5;124;03mLoad a parquet object from the file path, returning a DataFrame.\u001b[39;00m\n\u001b[1;32m    444\u001b[0m \n\u001b[0;32m   (...)\u001b[0m\n\u001b[1;32m    491\u001b[0m \u001b[38;5;124;03mDataFrame\u001b[39;00m\n\u001b[1;32m    492\u001b[0m \u001b[38;5;124;03m\"\"\"\u001b[39;00m\n\u001b[1;32m    493\u001b[0m impl \u001b[38;5;241m=\u001b[39m get_engine(engine)\n\u001b[0;32m--> 495\u001b[0m \u001b[38;5;28;01mreturn\u001b[39;00m \u001b[43mimpl\u001b[49m\u001b[38;5;241;43m.\u001b[39;49m\u001b[43mread\u001b[49m\u001b[43m(\u001b[49m\n\u001b[1;32m    496\u001b[0m \u001b[43m    \u001b[49m\u001b[43mpath\u001b[49m\u001b[43m,\u001b[49m\n\u001b[1;32m    497\u001b[0m \u001b[43m    \u001b[49m\u001b[43mcolumns\u001b[49m\u001b[38;5;241;43m=\u001b[39;49m\u001b[43mcolumns\u001b[49m\u001b[43m,\u001b[49m\n\u001b[1;32m    498\u001b[0m \u001b[43m    \u001b[49m\u001b[43mstorage_options\u001b[49m\u001b[38;5;241;43m=\u001b[39;49m\u001b[43mstorage_options\u001b[49m\u001b[43m,\u001b[49m\n\u001b[1;32m    499\u001b[0m \u001b[43m    \u001b[49m\u001b[43muse_nullable_dtypes\u001b[49m\u001b[38;5;241;43m=\u001b[39;49m\u001b[43muse_nullable_dtypes\u001b[49m\u001b[43m,\u001b[49m\n\u001b[1;32m    500\u001b[0m \u001b[43m    \u001b[49m\u001b[38;5;241;43m*\u001b[39;49m\u001b[38;5;241;43m*\u001b[39;49m\u001b[43mkwargs\u001b[49m\u001b[43m,\u001b[49m\n\u001b[1;32m    501\u001b[0m \u001b[43m\u001b[49m\u001b[43m)\u001b[49m\n",
      "File \u001b[0;32m~/PycharmProjects/shipt-data-processing/venv/lib/python3.9/site-packages/pandas/io/parquet.py:232\u001b[0m, in \u001b[0;36mPyArrowImpl.read\u001b[0;34m(self, path, columns, use_nullable_dtypes, storage_options, **kwargs)\u001b[0m\n\u001b[1;32m    229\u001b[0m \u001b[38;5;28;01mif\u001b[39;00m manager \u001b[38;5;241m==\u001b[39m \u001b[38;5;124m\"\u001b[39m\u001b[38;5;124marray\u001b[39m\u001b[38;5;124m\"\u001b[39m:\n\u001b[1;32m    230\u001b[0m     to_pandas_kwargs[\u001b[38;5;124m\"\u001b[39m\u001b[38;5;124msplit_blocks\u001b[39m\u001b[38;5;124m\"\u001b[39m] \u001b[38;5;241m=\u001b[39m \u001b[38;5;28;01mTrue\u001b[39;00m  \u001b[38;5;66;03m# type: ignore[assignment]\u001b[39;00m\n\u001b[0;32m--> 232\u001b[0m path_or_handle, handles, kwargs[\u001b[38;5;124m\"\u001b[39m\u001b[38;5;124mfilesystem\u001b[39m\u001b[38;5;124m\"\u001b[39m] \u001b[38;5;241m=\u001b[39m \u001b[43m_get_path_or_handle\u001b[49m\u001b[43m(\u001b[49m\n\u001b[1;32m    233\u001b[0m \u001b[43m    \u001b[49m\u001b[43mpath\u001b[49m\u001b[43m,\u001b[49m\n\u001b[1;32m    234\u001b[0m \u001b[43m    \u001b[49m\u001b[43mkwargs\u001b[49m\u001b[38;5;241;43m.\u001b[39;49m\u001b[43mpop\u001b[49m\u001b[43m(\u001b[49m\u001b[38;5;124;43m\"\u001b[39;49m\u001b[38;5;124;43mfilesystem\u001b[39;49m\u001b[38;5;124;43m\"\u001b[39;49m\u001b[43m,\u001b[49m\u001b[43m \u001b[49m\u001b[38;5;28;43;01mNone\u001b[39;49;00m\u001b[43m)\u001b[49m\u001b[43m,\u001b[49m\n\u001b[1;32m    235\u001b[0m \u001b[43m    \u001b[49m\u001b[43mstorage_options\u001b[49m\u001b[38;5;241;43m=\u001b[39;49m\u001b[43mstorage_options\u001b[49m\u001b[43m,\u001b[49m\n\u001b[1;32m    236\u001b[0m \u001b[43m    \u001b[49m\u001b[43mmode\u001b[49m\u001b[38;5;241;43m=\u001b[39;49m\u001b[38;5;124;43m\"\u001b[39;49m\u001b[38;5;124;43mrb\u001b[39;49m\u001b[38;5;124;43m\"\u001b[39;49m\u001b[43m,\u001b[49m\n\u001b[1;32m    237\u001b[0m \u001b[43m\u001b[49m\u001b[43m)\u001b[49m\n\u001b[1;32m    238\u001b[0m \u001b[38;5;28;01mtry\u001b[39;00m:\n\u001b[1;32m    239\u001b[0m     result \u001b[38;5;241m=\u001b[39m \u001b[38;5;28mself\u001b[39m\u001b[38;5;241m.\u001b[39mapi\u001b[38;5;241m.\u001b[39mparquet\u001b[38;5;241m.\u001b[39mread_table(\n\u001b[1;32m    240\u001b[0m         path_or_handle, columns\u001b[38;5;241m=\u001b[39mcolumns, \u001b[38;5;241m*\u001b[39m\u001b[38;5;241m*\u001b[39mkwargs\n\u001b[1;32m    241\u001b[0m     )\u001b[38;5;241m.\u001b[39mto_pandas(\u001b[38;5;241m*\u001b[39m\u001b[38;5;241m*\u001b[39mto_pandas_kwargs)\n",
      "File \u001b[0;32m~/PycharmProjects/shipt-data-processing/venv/lib/python3.9/site-packages/pandas/io/parquet.py:101\u001b[0m, in \u001b[0;36m_get_path_or_handle\u001b[0;34m(path, fs, storage_options, mode, is_dir)\u001b[0m\n\u001b[1;32m     91\u001b[0m handles \u001b[38;5;241m=\u001b[39m \u001b[38;5;28;01mNone\u001b[39;00m\n\u001b[1;32m     92\u001b[0m \u001b[38;5;28;01mif\u001b[39;00m (\n\u001b[1;32m     93\u001b[0m     \u001b[38;5;129;01mnot\u001b[39;00m fs\n\u001b[1;32m     94\u001b[0m     \u001b[38;5;129;01mand\u001b[39;00m \u001b[38;5;129;01mnot\u001b[39;00m is_dir\n\u001b[0;32m   (...)\u001b[0m\n\u001b[1;32m     99\u001b[0m     \u001b[38;5;66;03m# fsspec resources can also point to directories\u001b[39;00m\n\u001b[1;32m    100\u001b[0m     \u001b[38;5;66;03m# this branch is used for example when reading from non-fsspec URLs\u001b[39;00m\n\u001b[0;32m--> 101\u001b[0m     handles \u001b[38;5;241m=\u001b[39m \u001b[43mget_handle\u001b[49m\u001b[43m(\u001b[49m\n\u001b[1;32m    102\u001b[0m \u001b[43m        \u001b[49m\u001b[43mpath_or_handle\u001b[49m\u001b[43m,\u001b[49m\u001b[43m \u001b[49m\u001b[43mmode\u001b[49m\u001b[43m,\u001b[49m\u001b[43m \u001b[49m\u001b[43mis_text\u001b[49m\u001b[38;5;241;43m=\u001b[39;49m\u001b[38;5;28;43;01mFalse\u001b[39;49;00m\u001b[43m,\u001b[49m\u001b[43m \u001b[49m\u001b[43mstorage_options\u001b[49m\u001b[38;5;241;43m=\u001b[39;49m\u001b[43mstorage_options\u001b[49m\n\u001b[1;32m    103\u001b[0m \u001b[43m    \u001b[49m\u001b[43m)\u001b[49m\n\u001b[1;32m    104\u001b[0m     fs \u001b[38;5;241m=\u001b[39m \u001b[38;5;28;01mNone\u001b[39;00m\n\u001b[1;32m    105\u001b[0m     path_or_handle \u001b[38;5;241m=\u001b[39m handles\u001b[38;5;241m.\u001b[39mhandle\n",
      "File \u001b[0;32m~/PycharmProjects/shipt-data-processing/venv/lib/python3.9/site-packages/pandas/io/common.py:711\u001b[0m, in \u001b[0;36mget_handle\u001b[0;34m(path_or_buf, mode, encoding, compression, memory_map, is_text, errors, storage_options)\u001b[0m\n\u001b[1;32m    702\u001b[0m         handle \u001b[38;5;241m=\u001b[39m \u001b[38;5;28mopen\u001b[39m(\n\u001b[1;32m    703\u001b[0m             handle,\n\u001b[1;32m    704\u001b[0m             ioargs\u001b[38;5;241m.\u001b[39mmode,\n\u001b[0;32m   (...)\u001b[0m\n\u001b[1;32m    707\u001b[0m             newline\u001b[38;5;241m=\u001b[39m\u001b[38;5;124m\"\u001b[39m\u001b[38;5;124m\"\u001b[39m,\n\u001b[1;32m    708\u001b[0m         )\n\u001b[1;32m    709\u001b[0m     \u001b[38;5;28;01melse\u001b[39;00m:\n\u001b[1;32m    710\u001b[0m         \u001b[38;5;66;03m# Binary mode\u001b[39;00m\n\u001b[0;32m--> 711\u001b[0m         handle \u001b[38;5;241m=\u001b[39m \u001b[38;5;28;43mopen\u001b[39;49m\u001b[43m(\u001b[49m\u001b[43mhandle\u001b[49m\u001b[43m,\u001b[49m\u001b[43m \u001b[49m\u001b[43mioargs\u001b[49m\u001b[38;5;241;43m.\u001b[39;49m\u001b[43mmode\u001b[49m\u001b[43m)\u001b[49m\n\u001b[1;32m    712\u001b[0m     handles\u001b[38;5;241m.\u001b[39mappend(handle)\n\u001b[1;32m    714\u001b[0m \u001b[38;5;66;03m# Convert BytesIO or file objects passed with an encoding\u001b[39;00m\n",
      "\u001b[0;31mFileNotFoundError\u001b[0m: [Errno 2] No such file or directory: 'data/raw/order_financials.parquet'"
     ]
    }
   ],
   "source": [
    "#hide\n",
    "if use_snowflake:\n",
    "    df = pd.read_sql(con=con, sql = order_financials_query)\n",
    "    df['MONTH'] = pd.to_datetime(df['MONTH'])\n",
    "    df.to_parquet('data/raw/order_financials.parquet')\n",
    "else:\n",
    "    df = pd.read_parquet('data/raw/order_financials.parquet')"
   ]
  },
  {
   "cell_type": "code",
   "execution_count": null,
   "metadata": {},
   "outputs": [
    {
     "data": {
      "text/plain": [
       "(45357, 5)"
      ]
     },
     "execution_count": null,
     "metadata": {},
     "output_type": "execute_result"
    },
    {
     "data": {
      "text/html": [
       "<div>\n",
       "<style scoped>\n",
       "    .dataframe tbody tr th:only-of-type {\n",
       "        vertical-align: middle;\n",
       "    }\n",
       "\n",
       "    .dataframe tbody tr th {\n",
       "        vertical-align: top;\n",
       "    }\n",
       "\n",
       "    .dataframe thead th {\n",
       "        text-align: right;\n",
       "    }\n",
       "</style>\n",
       "<table border=\"1\" class=\"dataframe\">\n",
       "  <thead>\n",
       "    <tr style=\"text-align: right;\">\n",
       "      <th></th>\n",
       "      <th>MONTH</th>\n",
       "      <th>METRO</th>\n",
       "      <th>RETAILER</th>\n",
       "      <th>GMV</th>\n",
       "      <th>ORDER_VOLUME</th>\n",
       "    </tr>\n",
       "  </thead>\n",
       "  <tbody>\n",
       "    <tr>\n",
       "      <th>0</th>\n",
       "      <td>2021-12-01</td>\n",
       "      <td>Detroit</td>\n",
       "      <td>Target</td>\n",
       "      <td>831536.49</td>\n",
       "      <td>10846</td>\n",
       "    </tr>\n",
       "    <tr>\n",
       "      <th>1</th>\n",
       "      <td>2021-12-01</td>\n",
       "      <td>Fort Myers / Cape Coral</td>\n",
       "      <td>Publix</td>\n",
       "      <td>590075.68</td>\n",
       "      <td>5067</td>\n",
       "    </tr>\n",
       "    <tr>\n",
       "      <th>2</th>\n",
       "      <td>2021-01-01</td>\n",
       "      <td>Austin</td>\n",
       "      <td>Target</td>\n",
       "      <td>311242.01</td>\n",
       "      <td>4124</td>\n",
       "    </tr>\n",
       "    <tr>\n",
       "      <th>3</th>\n",
       "      <td>2021-12-01</td>\n",
       "      <td>Reading</td>\n",
       "      <td>Target</td>\n",
       "      <td>54143.47</td>\n",
       "      <td>682</td>\n",
       "    </tr>\n",
       "    <tr>\n",
       "      <th>4</th>\n",
       "      <td>2021-06-01</td>\n",
       "      <td>The Triad</td>\n",
       "      <td>Costco</td>\n",
       "      <td>40810.46</td>\n",
       "      <td>294</td>\n",
       "    </tr>\n",
       "  </tbody>\n",
       "</table>\n",
       "</div>"
      ],
      "text/plain": [
       "       MONTH                    METRO RETAILER        GMV  ORDER_VOLUME\n",
       "0 2021-12-01                  Detroit   Target  831536.49         10846\n",
       "1 2021-12-01  Fort Myers / Cape Coral   Publix  590075.68          5067\n",
       "2 2021-01-01                   Austin   Target  311242.01          4124\n",
       "3 2021-12-01                  Reading   Target   54143.47           682\n",
       "4 2021-06-01                The Triad   Costco   40810.46           294"
      ]
     },
     "execution_count": null,
     "metadata": {},
     "output_type": "execute_result"
    }
   ],
   "source": [
    "df.shape\n",
    "df.head()"
   ]
  },
  {
   "cell_type": "markdown",
   "metadata": {},
   "source": [
    "## Average metrics"
   ]
  },
  {
   "cell_type": "markdown",
   "metadata": {},
   "source": [
    "### Query"
   ]
  },
  {
   "cell_type": "code",
   "execution_count": null,
   "metadata": {},
   "outputs": [],
   "source": [
    "avg_metrics_query = \"\"\"\n",
    "SELECT PRODUCT_ID,\n",
    "       PRODUCT_NAME,\n",
    "       AVG(GMV) AS AVG_GMV, \n",
    "       AVG(ORDER_LINE_COUNT) AS AVG_ORDERLINES,\n",
    "       AVG(QTY_SOLD) AS AVG_QTY,\n",
    "       AVG(COST_SUM) AS AVG_COST,\n",
    "       AVG(PRICE_SUM) AS AVG_PRICE,\n",
    "       AVG(ORD_CUST_COUNT) AS AVG_CUST_COUNT\n",
    "FROM\n",
    "  (SELECT convert_timezone(\n",
    "    'UTC', 'US/Central', o.DELIVERED_AT::timestamp_ntz\n",
    "    )::date AS DEL_DATE,\n",
    "          M.NAME AS METRO,\n",
    "          s.name AS RETAILER,\n",
    "          ol.actual_product_id AS PRODUCT_ID,\n",
    "          p.NAME AS PRODUCT_NAME, \n",
    "          SUM(saved_product_price * actual_qty) AS GMV,\n",
    "          COUNT(DISTINCT o.id) AS ORDER_VOLUME,\n",
    "          COUNT(DISTINCT ol.id) AS ORDER_LINE_COUNT,\n",
    "          SUM(ol.actual_qty) AS QTY_SOLD,\n",
    "          SUM(ol.saved_product_cost) AS COST_SUM,\n",
    "          SUM(ol.saved_product_price) AS PRICE_SUM,\n",
    "          COUNT(DISTINCT o.CUSTOMER_ID) AS ORD_CUST_COUNT\n",
    "   FROM PRD_DATALAKEHOUSE.OG_VIEWS.ORDER_LINES ol\n",
    "   INNER JOIN PRD_DATALAKEHOUSE.OG_VIEWS.ORDERS o ON ol.order_id = o.id\n",
    "   INNER JOIN PRD_DATALAKEHOUSE.OG_VIEWS.METROS m ON m.id = o.metro_id\n",
    "   INNER JOIN PRD_DATALAKEHOUSE.OG_VIEWS.STORES s ON s.id = o.store_id\n",
    "   INNER JOIN PRD_DATALAKEHOUSE.OG_VIEWS.PRODUCTS p ON p.id = ol.actual_product_id\n",
    "   WHERE o.status ='delivered'\n",
    "     AND ACTUAL_PRODUCT_TYPE = 'Product'\n",
    "     AND is_external_platform_order = FALSE\n",
    "     AND partner_id IS NULL\n",
    "     AND convert_timezone(\n",
    "       'UTC', 'US/Central', DELIVERED_AT::timestamp_ntz\n",
    "       )::date BETWEEN '2021-12-01' AND '2021-12-31'\n",
    "     AND m.name = 'Detroit'\n",
    "     AND s.name = 'Meijer'\n",
    "   GROUP BY DEL_DATE,\n",
    "            METRO,\n",
    "            RETAILER,\n",
    "            PRODUCT_ID,\n",
    "            PRODUCT_NAME)\n",
    "GROUP BY PRODUCT_ID,\n",
    "         PRODUCT_NAME\n",
    "ORDER BY PRODUCT_NAME;\n",
    "\"\"\""
   ]
  },
  {
   "cell_type": "markdown",
   "metadata": {},
   "source": [
    "### Save data"
   ]
  },
  {
   "cell_type": "code",
   "execution_count": null,
   "metadata": {},
   "outputs": [
    {
     "name": "stderr",
     "output_type": "stream",
     "text": [
      "/Users/ravimulpuri/opt/miniconda3/envs/item_clustering/lib/python3.10/site-packages/pandas/io/sql.py:758: UserWarning: pandas only support SQLAlchemy connectable(engine/connection) ordatabase string URI or sqlite3 DBAPI2 connectionother DBAPI2 objects are not tested, please consider using SQLAlchemy\n",
      "  warnings.warn(\n"
     ]
    }
   ],
   "source": [
    "#hide\n",
    "if use_snowflake:\n",
    "    df_avg_metrics = pd.read_sql(con=con, sql = avg_metrics_query)\n",
    "    df_avg_metrics.to_parquet('data/raw/avg_metrics.parquet')\n",
    "else:\n",
    "    df_avg_metrics = pd.read_parquet('data/raw/avg_metrics.parquet')"
   ]
  },
  {
   "cell_type": "code",
   "execution_count": null,
   "metadata": {},
   "outputs": [
    {
     "data": {
      "text/plain": [
       "(49694, 8)"
      ]
     },
     "execution_count": null,
     "metadata": {},
     "output_type": "execute_result"
    },
    {
     "data": {
      "text/html": [
       "<div>\n",
       "<style scoped>\n",
       "    .dataframe tbody tr th:only-of-type {\n",
       "        vertical-align: middle;\n",
       "    }\n",
       "\n",
       "    .dataframe tbody tr th {\n",
       "        vertical-align: top;\n",
       "    }\n",
       "\n",
       "    .dataframe thead th {\n",
       "        text-align: right;\n",
       "    }\n",
       "</style>\n",
       "<table border=\"1\" class=\"dataframe\">\n",
       "  <thead>\n",
       "    <tr style=\"text-align: right;\">\n",
       "      <th></th>\n",
       "      <th>PRODUCT_ID</th>\n",
       "      <th>PRODUCT_NAME</th>\n",
       "      <th>AVG_GMV</th>\n",
       "      <th>AVG_ORDERLINES</th>\n",
       "      <th>AVG_QTY</th>\n",
       "      <th>AVG_COST</th>\n",
       "      <th>AVG_PRICE</th>\n",
       "      <th>AVG_CUST_COUNT</th>\n",
       "    </tr>\n",
       "  </thead>\n",
       "  <tbody>\n",
       "    <tr>\n",
       "      <th>0</th>\n",
       "      <td>10286076</td>\n",
       "      <td>\"\\tNOBLETREE Reverence Espresso Whole Bean Cof...</td>\n",
       "      <td>10.49</td>\n",
       "      <td>1.0</td>\n",
       "      <td>1.0</td>\n",
       "      <td>8.99</td>\n",
       "      <td>10.49</td>\n",
       "      <td>1.0</td>\n",
       "    </tr>\n",
       "    <tr>\n",
       "      <th>1</th>\n",
       "      <td>10433693</td>\n",
       "      <td>\" Handcrafted Ornament Set, 1\"\" RoundDecember ...</td>\n",
       "      <td>7.59</td>\n",
       "      <td>1.0</td>\n",
       "      <td>1.0</td>\n",
       "      <td>6.99</td>\n",
       "      <td>7.59</td>\n",
       "      <td>1.0</td>\n",
       "    </tr>\n",
       "    <tr>\n",
       "      <th>2</th>\n",
       "      <td>10438190</td>\n",
       "      <td>\" Handcrafted Ornament Set, 1\"\" RoundDecember ...</td>\n",
       "      <td>7.59</td>\n",
       "      <td>1.0</td>\n",
       "      <td>1.0</td>\n",
       "      <td>6.99</td>\n",
       "      <td>7.59</td>\n",
       "      <td>1.0</td>\n",
       "    </tr>\n",
       "    <tr>\n",
       "      <th>3</th>\n",
       "      <td>10511929</td>\n",
       "      <td>\" Handcrafted Ornament Set, 1\"\" RoundDecember ...</td>\n",
       "      <td>12.18</td>\n",
       "      <td>1.0</td>\n",
       "      <td>2.0</td>\n",
       "      <td>5.59</td>\n",
       "      <td>6.09</td>\n",
       "      <td>1.0</td>\n",
       "    </tr>\n",
       "    <tr>\n",
       "      <th>4</th>\n",
       "      <td>10548473</td>\n",
       "      <td>\" Handcrafted Ornament Set, 1.5\"\" RoundDecembe...</td>\n",
       "      <td>12.99</td>\n",
       "      <td>1.0</td>\n",
       "      <td>1.0</td>\n",
       "      <td>11.99</td>\n",
       "      <td>12.99</td>\n",
       "      <td>1.0</td>\n",
       "    </tr>\n",
       "  </tbody>\n",
       "</table>\n",
       "</div>"
      ],
      "text/plain": [
       "   PRODUCT_ID                                       PRODUCT_NAME  AVG_GMV  \\\n",
       "0    10286076  \"\\tNOBLETREE Reverence Espresso Whole Bean Cof...    10.49   \n",
       "1    10433693  \" Handcrafted Ornament Set, 1\"\" RoundDecember ...     7.59   \n",
       "2    10438190  \" Handcrafted Ornament Set, 1\"\" RoundDecember ...     7.59   \n",
       "3    10511929  \" Handcrafted Ornament Set, 1\"\" RoundDecember ...    12.18   \n",
       "4    10548473  \" Handcrafted Ornament Set, 1.5\"\" RoundDecembe...    12.99   \n",
       "\n",
       "   AVG_ORDERLINES  AVG_QTY  AVG_COST  AVG_PRICE  AVG_CUST_COUNT  \n",
       "0             1.0      1.0      8.99      10.49             1.0  \n",
       "1             1.0      1.0      6.99       7.59             1.0  \n",
       "2             1.0      1.0      6.99       7.59             1.0  \n",
       "3             1.0      2.0      5.59       6.09             1.0  \n",
       "4             1.0      1.0     11.99      12.99             1.0  "
      ]
     },
     "execution_count": null,
     "metadata": {},
     "output_type": "execute_result"
    }
   ],
   "source": [
    "df_avg_metrics.shape\n",
    "df_avg_metrics.head()"
   ]
  },
  {
   "cell_type": "markdown",
   "metadata": {},
   "source": [
    "## Click stream metrics"
   ]
  },
  {
   "cell_type": "markdown",
   "metadata": {},
   "source": [
    "Metrics grouped by product_id, product_name\n",
    "\n",
    "Q: The metrics are at Product Id and Product name level for the entire month ??\n",
    "- `avg_cart_add_daily` and `ADD_TO_ORDER_daily` are not actually daily measures. These metrics are for the entire month for each `product_id` and `product_name`"
   ]
  },
  {
   "cell_type": "markdown",
   "metadata": {},
   "source": [
    "### Query"
   ]
  },
  {
   "cell_type": "code",
   "execution_count": null,
   "metadata": {},
   "outputs": [],
   "source": [
    "clickstream_metrics_query = \"\"\"\n",
    "SELECT DISTINCT product_id,\n",
    "                product_name,\n",
    "                AVG(ATC_count) AS avg_cart_add_daily,\n",
    "                AVG(ADD_TO_ORDER_COUNT) AS ADD_TO_ORDER_daily\n",
    "FROM\n",
    "  (SELECT DISTINCT event_stamp::date AS event_date,\n",
    "          product_id,\n",
    "          product_name, \n",
    "          COUNT(DISTINCT(CASE \n",
    "            WHEN event_type = 'product_added_to_cart' \n",
    "            THEN EVENT_ID END)) \n",
    "          AS ATC_count,\n",
    "          COUNT(DISTINCT(CASE \n",
    "            WHEN event_type = 'product_added_to_order' \n",
    "            THEN EVENT_ID END)) \n",
    "          AS ADD_TO_ORDER_COUNT\n",
    "   FROM PRD_SEGMENT_EVENTS.MEMBER.SEARCH_BROWSE_CONVERSIONS\n",
    "   WHERE metro = 'Detroit'\n",
    "     AND store = 'Meijer'\n",
    "     AND event_stamp::date BETWEEN '2021-12-01' AND '2021-12-31'\n",
    "   GROUP BY event_date,\n",
    "            product_id,\n",
    "            product_name\n",
    "   ORDER BY ATC_COUNT DESC)\n",
    "GROUP BY product_id,\n",
    "         product_name;\n",
    "\"\"\""
   ]
  },
  {
   "cell_type": "markdown",
   "metadata": {},
   "source": [
    "### Save data"
   ]
  },
  {
   "cell_type": "code",
   "execution_count": null,
   "metadata": {},
   "outputs": [
    {
     "name": "stderr",
     "output_type": "stream",
     "text": [
      "/Users/ravimulpuri/opt/miniconda3/envs/item_clustering/lib/python3.10/site-packages/pandas/io/sql.py:758: UserWarning: pandas only support SQLAlchemy connectable(engine/connection) ordatabase string URI or sqlite3 DBAPI2 connectionother DBAPI2 objects are not tested, please consider using SQLAlchemy\n",
      "  warnings.warn(\n"
     ]
    }
   ],
   "source": [
    "#hide\n",
    "if use_snowflake:\n",
    "    df_clickstream_metrics = pd.read_sql(con=con, sql = clickstream_metrics_query)\n",
    "    df_clickstream_metrics.to_parquet('data/raw/clickstream_metrics.parquet')\n",
    "else:\n",
    "    df_clickstream_metrics = pd.read_parquet('data/raw/clickstream_metrics.parquet')"
   ]
  },
  {
   "cell_type": "code",
   "execution_count": null,
   "metadata": {},
   "outputs": [
    {
     "data": {
      "text/plain": [
       "(56916, 4)"
      ]
     },
     "execution_count": null,
     "metadata": {},
     "output_type": "execute_result"
    },
    {
     "data": {
      "text/html": [
       "<div>\n",
       "<style scoped>\n",
       "    .dataframe tbody tr th:only-of-type {\n",
       "        vertical-align: middle;\n",
       "    }\n",
       "\n",
       "    .dataframe tbody tr th {\n",
       "        vertical-align: top;\n",
       "    }\n",
       "\n",
       "    .dataframe thead th {\n",
       "        text-align: right;\n",
       "    }\n",
       "</style>\n",
       "<table border=\"1\" class=\"dataframe\">\n",
       "  <thead>\n",
       "    <tr style=\"text-align: right;\">\n",
       "      <th></th>\n",
       "      <th>PRODUCT_ID</th>\n",
       "      <th>PRODUCT_NAME</th>\n",
       "      <th>AVG_CART_ADD_DAILY</th>\n",
       "      <th>ADD_TO_ORDER_DAILY</th>\n",
       "    </tr>\n",
       "  </thead>\n",
       "  <tbody>\n",
       "    <tr>\n",
       "      <th>0</th>\n",
       "      <td>4251091</td>\n",
       "      <td>Hudsonville Ice Cream Triple Peanut Butter Cup</td>\n",
       "      <td>2.608696</td>\n",
       "      <td>0.086957</td>\n",
       "    </tr>\n",
       "    <tr>\n",
       "      <th>1</th>\n",
       "      <td>3967404</td>\n",
       "      <td>Hebrew National Bun Length Beef Franks</td>\n",
       "      <td>3.500000</td>\n",
       "      <td>0.035714</td>\n",
       "    </tr>\n",
       "    <tr>\n",
       "      <th>2</th>\n",
       "      <td>3972759</td>\n",
       "      <td>Thai Kitchen Gluten Free Unsweetened Coconut C...</td>\n",
       "      <td>1.647059</td>\n",
       "      <td>0.176471</td>\n",
       "    </tr>\n",
       "    <tr>\n",
       "      <th>3</th>\n",
       "      <td>4039320</td>\n",
       "      <td>bubly Grapefruit Sparkling Water</td>\n",
       "      <td>2.263158</td>\n",
       "      <td>0.105263</td>\n",
       "    </tr>\n",
       "    <tr>\n",
       "      <th>4</th>\n",
       "      <td>3985119</td>\n",
       "      <td>Pillsbury Chocolate Chip Cookie Dough</td>\n",
       "      <td>3.250000</td>\n",
       "      <td>0.107143</td>\n",
       "    </tr>\n",
       "  </tbody>\n",
       "</table>\n",
       "</div>"
      ],
      "text/plain": [
       "   PRODUCT_ID                                       PRODUCT_NAME  \\\n",
       "0     4251091     Hudsonville Ice Cream Triple Peanut Butter Cup   \n",
       "1     3967404             Hebrew National Bun Length Beef Franks   \n",
       "2     3972759  Thai Kitchen Gluten Free Unsweetened Coconut C...   \n",
       "3     4039320                   bubly Grapefruit Sparkling Water   \n",
       "4     3985119              Pillsbury Chocolate Chip Cookie Dough   \n",
       "\n",
       "   AVG_CART_ADD_DAILY  ADD_TO_ORDER_DAILY  \n",
       "0            2.608696            0.086957  \n",
       "1            3.500000            0.035714  \n",
       "2            1.647059            0.176471  \n",
       "3            2.263158            0.105263  \n",
       "4            3.250000            0.107143  "
      ]
     },
     "execution_count": null,
     "metadata": {},
     "output_type": "execute_result"
    }
   ],
   "source": [
    "df_clickstream_metrics.shape\n",
    "df_clickstream_metrics.head()"
   ]
  },
  {
   "cell_type": "markdown",
   "metadata": {},
   "source": [
    "## Growth metrics"
   ]
  },
  {
   "cell_type": "markdown",
   "metadata": {},
   "source": [
    "Metrics grouped by `DATE_MONTH`, product_id and product_name"
   ]
  },
  {
   "cell_type": "markdown",
   "metadata": {},
   "source": [
    "### Query"
   ]
  },
  {
   "cell_type": "code",
   "execution_count": null,
   "metadata": {},
   "outputs": [],
   "source": [
    "growth_metrics_query = \"\"\"\n",
    "SELECT month(\n",
    "  convert_timezone(\n",
    "    'UTC', 'US/Central', DELIVERED_AT::timestamp_ntz)::date\n",
    "    ) AS date_month,\n",
    "    ol.actual_product_id AS PRODUCT_ID,\n",
    "    p.NAME AS PRODUCT_NAME, SUM(saved_product_price * actual_qty) AS GMV, \n",
    "    COUNT(DISTINCT ol.id) AS ORDER_LINE_COUNT,\n",
    "    SUM(ol.actual_qty) AS QTY_SOLD,\n",
    "    COUNT(DISTINCT o.CUSTOMER_ID) AS ORD_CUST_COUNT\n",
    "FROM PRD_DATALAKEHOUSE.OG_VIEWS.ORDER_LINES ol\n",
    "INNER JOIN PRD_DATALAKEHOUSE.OG_VIEWS.ORDERS o ON ol.order_id = o.id\n",
    "INNER JOIN PRD_DATALAKEHOUSE.OG_VIEWS.METROS m ON m.id = o.metro_id\n",
    "INNER JOIN PRD_DATALAKEHOUSE.OG_VIEWS.STORES s ON s.id = o.store_id\n",
    "INNER JOIN PRD_DATALAKEHOUSE.OG_VIEWS.PRODUCTS p ON p.id = ol.actual_product_id\n",
    "WHERE o.status ='delivered'\n",
    "  AND ACTUAL_PRODUCT_TYPE = 'Product'\n",
    "  AND is_external_platform_order = FALSE\n",
    "  AND partner_id IS NULL\n",
    "  AND convert_timezone(\n",
    "    'UTC', 'US/Central', DELIVERED_AT::timestamp_ntz\n",
    "    )::date BETWEEN '2021-01-01' AND '2021-12-31'\n",
    "  AND m.name = 'Detroit'\n",
    "  AND s.name = 'Meijer'\n",
    "GROUP BY DATE_MONTH,\n",
    "         PRODUCT_ID,\n",
    "         PRODUCT_NAME;\n",
    "\"\"\""
   ]
  },
  {
   "cell_type": "markdown",
   "metadata": {},
   "source": [
    "###  Save data - raw"
   ]
  },
  {
   "cell_type": "code",
   "execution_count": null,
   "metadata": {},
   "outputs": [
    {
     "name": "stderr",
     "output_type": "stream",
     "text": [
      "/Users/ravimulpuri/opt/miniconda3/envs/item_clustering/lib/python3.10/site-packages/pandas/io/sql.py:758: UserWarning: pandas only support SQLAlchemy connectable(engine/connection) ordatabase string URI or sqlite3 DBAPI2 connectionother DBAPI2 objects are not tested, please consider using SQLAlchemy\n",
      "  warnings.warn(\n"
     ]
    }
   ],
   "source": [
    "#hide\n",
    "if use_snowflake:\n",
    "    df_growth_metrics = pd.read_sql(con=con, sql = growth_metrics_query)\n",
    "    df_growth_metrics.to_parquet('data/raw/growth_metrics.parquet')\n",
    "else:\n",
    "    df_growth_metrics = pd.read_parquet('data/raw/growth_metrics.parquet')"
   ]
  },
  {
   "cell_type": "code",
   "execution_count": null,
   "metadata": {},
   "outputs": [
    {
     "data": {
      "text/plain": [
       "(596110, 7)"
      ]
     },
     "execution_count": null,
     "metadata": {},
     "output_type": "execute_result"
    },
    {
     "data": {
      "text/html": [
       "<div>\n",
       "<style scoped>\n",
       "    .dataframe tbody tr th:only-of-type {\n",
       "        vertical-align: middle;\n",
       "    }\n",
       "\n",
       "    .dataframe tbody tr th {\n",
       "        vertical-align: top;\n",
       "    }\n",
       "\n",
       "    .dataframe thead th {\n",
       "        text-align: right;\n",
       "    }\n",
       "</style>\n",
       "<table border=\"1\" class=\"dataframe\">\n",
       "  <thead>\n",
       "    <tr style=\"text-align: right;\">\n",
       "      <th></th>\n",
       "      <th>DATE_MONTH</th>\n",
       "      <th>PRODUCT_ID</th>\n",
       "      <th>PRODUCT_NAME</th>\n",
       "      <th>GMV</th>\n",
       "      <th>ORDER_LINE_COUNT</th>\n",
       "      <th>QTY_SOLD</th>\n",
       "      <th>ORD_CUST_COUNT</th>\n",
       "    </tr>\n",
       "  </thead>\n",
       "  <tbody>\n",
       "    <tr>\n",
       "      <th>0</th>\n",
       "      <td>9</td>\n",
       "      <td>4003519</td>\n",
       "      <td>Mashed Cauliflower</td>\n",
       "      <td>376.60</td>\n",
       "      <td>53</td>\n",
       "      <td>60.0</td>\n",
       "      <td>45</td>\n",
       "    </tr>\n",
       "    <tr>\n",
       "      <th>1</th>\n",
       "      <td>12</td>\n",
       "      <td>3974692</td>\n",
       "      <td>Q-Tips Cotton Swabs</td>\n",
       "      <td>1271.99</td>\n",
       "      <td>301</td>\n",
       "      <td>311.0</td>\n",
       "      <td>298</td>\n",
       "    </tr>\n",
       "    <tr>\n",
       "      <th>2</th>\n",
       "      <td>10</td>\n",
       "      <td>3982786</td>\n",
       "      <td>Dijon Mustard</td>\n",
       "      <td>214.21</td>\n",
       "      <td>145</td>\n",
       "      <td>149.0</td>\n",
       "      <td>142</td>\n",
       "    </tr>\n",
       "    <tr>\n",
       "      <th>3</th>\n",
       "      <td>12</td>\n",
       "      <td>3987097</td>\n",
       "      <td>Lemon Lime Soda Bottle</td>\n",
       "      <td>62.14</td>\n",
       "      <td>19</td>\n",
       "      <td>26.0</td>\n",
       "      <td>18</td>\n",
       "    </tr>\n",
       "    <tr>\n",
       "      <th>4</th>\n",
       "      <td>9</td>\n",
       "      <td>6219504</td>\n",
       "      <td>Eggland's Best Grade A Extra Large Eggs, 1 Dozen</td>\n",
       "      <td>530.95</td>\n",
       "      <td>127</td>\n",
       "      <td>155.0</td>\n",
       "      <td>112</td>\n",
       "    </tr>\n",
       "  </tbody>\n",
       "</table>\n",
       "</div>"
      ],
      "text/plain": [
       "   DATE_MONTH  PRODUCT_ID                                      PRODUCT_NAME  \\\n",
       "0           9     4003519                                Mashed Cauliflower   \n",
       "1          12     3974692                               Q-Tips Cotton Swabs   \n",
       "2          10     3982786                                     Dijon Mustard   \n",
       "3          12     3987097                            Lemon Lime Soda Bottle   \n",
       "4           9     6219504  Eggland's Best Grade A Extra Large Eggs, 1 Dozen   \n",
       "\n",
       "       GMV  ORDER_LINE_COUNT  QTY_SOLD  ORD_CUST_COUNT  \n",
       "0   376.60                53      60.0              45  \n",
       "1  1271.99               301     311.0             298  \n",
       "2   214.21               145     149.0             142  \n",
       "3    62.14                19      26.0              18  \n",
       "4   530.95               127     155.0             112  "
      ]
     },
     "execution_count": null,
     "metadata": {},
     "output_type": "execute_result"
    }
   ],
   "source": [
    "df_growth_metrics.shape\n",
    "df_growth_metrics.head()"
   ]
  },
  {
   "cell_type": "markdown",
   "metadata": {},
   "source": [
    "### Derive growth metrics"
   ]
  },
  {
   "cell_type": "markdown",
   "metadata": {},
   "source": [
    "Bringing growth metrics at product level.\n",
    "\n",
    "The following metrics are added\n",
    "1. `GMV_growth`\n",
    "2. `Order_line_growth`\n",
    "3. `Qty_sold_growth`\n",
    "4. `Ord_Cust_growth`\n",
    "\n",
    "For each metric, the values are sorted based on `DATE_MONTH` and then grouped by `PRODUCT_ID` and respecive column (`GMV`, `ORDER_LINE_COUNT` etc.). Then, growth is computed by percentage change from the previous period\n",
    "\n",
    "\n",
    "_Example_\n",
    "\n",
    "```python\n",
    "df_growth_metrics[\"GMV_growth\"] = (\n",
    "    df_growth_metrics[[\"DATE_MONTH\", \"PRODUCT_ID\", \"GMV\"]]\n",
    "    .sort_values(by=\"DATE_MONTH\")\n",
    "    .groupby([\"PRODUCT_ID\"])[\"GMV\"]\n",
    "    .pct_change(periods=1, fill_method=\"ffill\")\n",
    ")\n",
    "```\n"
   ]
  },
  {
   "cell_type": "code",
   "execution_count": null,
   "metadata": {},
   "outputs": [],
   "source": [
    "#hide\n",
    "\n",
    "df_growth_metrics[\"GMV_growth\"] = (\n",
    "    df_growth_metrics[[\"DATE_MONTH\", \"PRODUCT_ID\", \"GMV\"]]\n",
    "    .sort_values(by=\"DATE_MONTH\")\n",
    "    .groupby([\"PRODUCT_ID\"])[\"GMV\"]\n",
    "    .pct_change(periods=1, fill_method=\"ffill\")\n",
    ")\n",
    "df_growth_metrics[\"Order_line_growth\"] = (\n",
    "    df_growth_metrics[[\"DATE_MONTH\", \"PRODUCT_ID\", \"ORDER_LINE_COUNT\"]]\n",
    "    .sort_values(by=\"DATE_MONTH\")\n",
    "    .groupby([\"PRODUCT_ID\"])[\"ORDER_LINE_COUNT\"]\n",
    "    .pct_change(periods=1, fill_method=\"ffill\")\n",
    ")\n",
    "df_growth_metrics[\"Qty_sold_growth\"] = (\n",
    "    df_growth_metrics[[\"DATE_MONTH\", \"PRODUCT_ID\", \"QTY_SOLD\"]]\n",
    "    .sort_values(by=\"DATE_MONTH\")\n",
    "    .groupby([\"PRODUCT_ID\"])[\"QTY_SOLD\"]\n",
    "    .pct_change(periods=1, fill_method=\"ffill\")\n",
    ")\n",
    "df_growth_metrics[\"Ord_Cust_growth\"] = (\n",
    "    df_growth_metrics[[\"DATE_MONTH\", \"PRODUCT_ID\", \"ORD_CUST_COUNT\"]]\n",
    "    .sort_values(by=\"DATE_MONTH\")\n",
    "    .groupby([\"PRODUCT_ID\"])[\"ORD_CUST_COUNT\"]\n",
    "    .pct_change(periods=1, fill_method=\"ffill\")\n",
    ")"
   ]
  },
  {
   "cell_type": "code",
   "execution_count": null,
   "metadata": {},
   "outputs": [
    {
     "data": {
      "text/plain": [
       "(596110, 11)"
      ]
     },
     "execution_count": null,
     "metadata": {},
     "output_type": "execute_result"
    },
    {
     "data": {
      "text/html": [
       "<div>\n",
       "<style scoped>\n",
       "    .dataframe tbody tr th:only-of-type {\n",
       "        vertical-align: middle;\n",
       "    }\n",
       "\n",
       "    .dataframe tbody tr th {\n",
       "        vertical-align: top;\n",
       "    }\n",
       "\n",
       "    .dataframe thead th {\n",
       "        text-align: right;\n",
       "    }\n",
       "</style>\n",
       "<table border=\"1\" class=\"dataframe\">\n",
       "  <thead>\n",
       "    <tr style=\"text-align: right;\">\n",
       "      <th></th>\n",
       "      <th>0</th>\n",
       "      <th>1</th>\n",
       "      <th>2</th>\n",
       "      <th>3</th>\n",
       "      <th>4</th>\n",
       "    </tr>\n",
       "  </thead>\n",
       "  <tbody>\n",
       "    <tr>\n",
       "      <th>DATE_MONTH</th>\n",
       "      <td>9</td>\n",
       "      <td>12</td>\n",
       "      <td>10</td>\n",
       "      <td>12</td>\n",
       "      <td>9</td>\n",
       "    </tr>\n",
       "    <tr>\n",
       "      <th>PRODUCT_ID</th>\n",
       "      <td>4003519</td>\n",
       "      <td>3974692</td>\n",
       "      <td>3982786</td>\n",
       "      <td>3987097</td>\n",
       "      <td>6219504</td>\n",
       "    </tr>\n",
       "    <tr>\n",
       "      <th>PRODUCT_NAME</th>\n",
       "      <td>Mashed Cauliflower</td>\n",
       "      <td>Q-Tips Cotton Swabs</td>\n",
       "      <td>Dijon Mustard</td>\n",
       "      <td>Lemon Lime Soda Bottle</td>\n",
       "      <td>Eggland's Best Grade A Extra Large Eggs, 1 Dozen</td>\n",
       "    </tr>\n",
       "    <tr>\n",
       "      <th>GMV</th>\n",
       "      <td>376.6</td>\n",
       "      <td>1271.99</td>\n",
       "      <td>214.21</td>\n",
       "      <td>62.14</td>\n",
       "      <td>530.95</td>\n",
       "    </tr>\n",
       "    <tr>\n",
       "      <th>ORDER_LINE_COUNT</th>\n",
       "      <td>53</td>\n",
       "      <td>301</td>\n",
       "      <td>145</td>\n",
       "      <td>19</td>\n",
       "      <td>127</td>\n",
       "    </tr>\n",
       "    <tr>\n",
       "      <th>QTY_SOLD</th>\n",
       "      <td>60.0</td>\n",
       "      <td>311.0</td>\n",
       "      <td>149.0</td>\n",
       "      <td>26.0</td>\n",
       "      <td>155.0</td>\n",
       "    </tr>\n",
       "    <tr>\n",
       "      <th>ORD_CUST_COUNT</th>\n",
       "      <td>45</td>\n",
       "      <td>298</td>\n",
       "      <td>142</td>\n",
       "      <td>18</td>\n",
       "      <td>112</td>\n",
       "    </tr>\n",
       "    <tr>\n",
       "      <th>GMV_growth</th>\n",
       "      <td>0.415896</td>\n",
       "      <td>-0.022591</td>\n",
       "      <td>-0.236056</td>\n",
       "      <td>0.083333</td>\n",
       "      <td>0.305187</td>\n",
       "    </tr>\n",
       "    <tr>\n",
       "      <th>Order_line_growth</th>\n",
       "      <td>0.394737</td>\n",
       "      <td>0.003333</td>\n",
       "      <td>-0.08805</td>\n",
       "      <td>-0.136364</td>\n",
       "      <td>0.27</td>\n",
       "    </tr>\n",
       "    <tr>\n",
       "      <th>Qty_sold_growth</th>\n",
       "      <td>0.428571</td>\n",
       "      <td>0.0</td>\n",
       "      <td>-0.06875</td>\n",
       "      <td>0.083333</td>\n",
       "      <td>0.291667</td>\n",
       "    </tr>\n",
       "    <tr>\n",
       "      <th>Ord_Cust_growth</th>\n",
       "      <td>0.285714</td>\n",
       "      <td>0.006757</td>\n",
       "      <td>-0.095541</td>\n",
       "      <td>-0.142857</td>\n",
       "      <td>0.302326</td>\n",
       "    </tr>\n",
       "  </tbody>\n",
       "</table>\n",
       "</div>"
      ],
      "text/plain": [
       "                                    0                    1              2  \\\n",
       "DATE_MONTH                          9                   12             10   \n",
       "PRODUCT_ID                    4003519              3974692        3982786   \n",
       "PRODUCT_NAME       Mashed Cauliflower  Q-Tips Cotton Swabs  Dijon Mustard   \n",
       "GMV                             376.6              1271.99         214.21   \n",
       "ORDER_LINE_COUNT                   53                  301            145   \n",
       "QTY_SOLD                         60.0                311.0          149.0   \n",
       "ORD_CUST_COUNT                     45                  298            142   \n",
       "GMV_growth                   0.415896            -0.022591      -0.236056   \n",
       "Order_line_growth            0.394737             0.003333       -0.08805   \n",
       "Qty_sold_growth              0.428571                  0.0       -0.06875   \n",
       "Ord_Cust_growth              0.285714             0.006757      -0.095541   \n",
       "\n",
       "                                        3  \\\n",
       "DATE_MONTH                             12   \n",
       "PRODUCT_ID                        3987097   \n",
       "PRODUCT_NAME       Lemon Lime Soda Bottle   \n",
       "GMV                                 62.14   \n",
       "ORDER_LINE_COUNT                       19   \n",
       "QTY_SOLD                             26.0   \n",
       "ORD_CUST_COUNT                         18   \n",
       "GMV_growth                       0.083333   \n",
       "Order_line_growth               -0.136364   \n",
       "Qty_sold_growth                  0.083333   \n",
       "Ord_Cust_growth                 -0.142857   \n",
       "\n",
       "                                                                  4  \n",
       "DATE_MONTH                                                        9  \n",
       "PRODUCT_ID                                                  6219504  \n",
       "PRODUCT_NAME       Eggland's Best Grade A Extra Large Eggs, 1 Dozen  \n",
       "GMV                                                          530.95  \n",
       "ORDER_LINE_COUNT                                                127  \n",
       "QTY_SOLD                                                      155.0  \n",
       "ORD_CUST_COUNT                                                  112  \n",
       "GMV_growth                                                 0.305187  \n",
       "Order_line_growth                                              0.27  \n",
       "Qty_sold_growth                                            0.291667  \n",
       "Ord_Cust_growth                                            0.302326  "
      ]
     },
     "execution_count": null,
     "metadata": {},
     "output_type": "execute_result"
    },
    {
     "data": {
      "text/plain": [
       "1     51255\n",
       "3     51128\n",
       "4     50993\n",
       "5     50901\n",
       "6     49842\n",
       "12    49694\n",
       "2     49649\n",
       "8     49388\n",
       "7     49071\n",
       "9     48204\n",
       "11    48005\n",
       "10    47980\n",
       "Name: DATE_MONTH, dtype: int64"
      ]
     },
     "execution_count": null,
     "metadata": {},
     "output_type": "execute_result"
    }
   ],
   "source": [
    "df_growth_metrics.shape\n",
    "df_growth_metrics.head().T\n",
    "df_growth_metrics['DATE_MONTH'].value_counts()"
   ]
  },
  {
   "cell_type": "code",
   "execution_count": null,
   "metadata": {},
   "outputs": [],
   "source": [
    "#hide\n",
    "df_growth_final = df_growth_metrics.groupby(['PRODUCT_ID']).mean()\n",
    "df_growth_final = df_growth_final.reset_index()\n",
    "\n",
    "df_growth_final.columns = [\n",
    "    \"PRODUCT_ID\",\n",
    "    \"DATE_MONTH\",\n",
    "    \"AVG_MONTHLY_GMV\",\n",
    "    \"AVG_MONTHLY_ORDER_LINE\",\n",
    "    \"AVG_MONTHLY_QTY_SOLD\", \n",
    "    \"AVG_MONTHLY_ORD_CUST\",\n",
    "    \"GMV_GROWTH\",\n",
    "    \"ORDER_LINE_GROWTH\",\n",
    "    \"QTY_SOLD_GROWTH\",\n",
    "    \"ORD_CUST_GROWTH\"\n",
    "]"
   ]
  },
  {
   "cell_type": "markdown",
   "metadata": {},
   "source": [
    "For each `product_id`, mean value of the metric is computed to bring the metrics at product level"
   ]
  },
  {
   "cell_type": "code",
   "execution_count": null,
   "metadata": {},
   "outputs": [
    {
     "data": {
      "text/plain": [
       "(91863, 10)"
      ]
     },
     "execution_count": null,
     "metadata": {},
     "output_type": "execute_result"
    },
    {
     "data": {
      "text/html": [
       "<div>\n",
       "<style scoped>\n",
       "    .dataframe tbody tr th:only-of-type {\n",
       "        vertical-align: middle;\n",
       "    }\n",
       "\n",
       "    .dataframe tbody tr th {\n",
       "        vertical-align: top;\n",
       "    }\n",
       "\n",
       "    .dataframe thead th {\n",
       "        text-align: right;\n",
       "    }\n",
       "</style>\n",
       "<table border=\"1\" class=\"dataframe\">\n",
       "  <thead>\n",
       "    <tr style=\"text-align: right;\">\n",
       "      <th></th>\n",
       "      <th>0</th>\n",
       "      <th>1</th>\n",
       "      <th>2</th>\n",
       "      <th>3</th>\n",
       "      <th>4</th>\n",
       "    </tr>\n",
       "  </thead>\n",
       "  <tbody>\n",
       "    <tr>\n",
       "      <th>PRODUCT_ID</th>\n",
       "      <td>3.859281e+06</td>\n",
       "      <td>3.859288e+06</td>\n",
       "      <td>3.859290e+06</td>\n",
       "      <td>3.859692e+06</td>\n",
       "      <td>3.860143e+06</td>\n",
       "    </tr>\n",
       "    <tr>\n",
       "      <th>DATE_MONTH</th>\n",
       "      <td>6.500000e+00</td>\n",
       "      <td>6.000000e+00</td>\n",
       "      <td>6.500000e+00</td>\n",
       "      <td>9.600000e+00</td>\n",
       "      <td>6.500000e+00</td>\n",
       "    </tr>\n",
       "    <tr>\n",
       "      <th>AVG_MONTHLY_GMV</th>\n",
       "      <td>7.603250e+01</td>\n",
       "      <td>1.106036e+02</td>\n",
       "      <td>9.066083e+01</td>\n",
       "      <td>1.536200e+01</td>\n",
       "      <td>3.542427e+03</td>\n",
       "    </tr>\n",
       "    <tr>\n",
       "      <th>AVG_MONTHLY_ORDER_LINE</th>\n",
       "      <td>1.433333e+01</td>\n",
       "      <td>1.563636e+01</td>\n",
       "      <td>3.216667e+01</td>\n",
       "      <td>1.800000e+00</td>\n",
       "      <td>9.395000e+02</td>\n",
       "    </tr>\n",
       "    <tr>\n",
       "      <th>AVG_MONTHLY_QTY_SOLD</th>\n",
       "      <td>1.508333e+01</td>\n",
       "      <td>1.600000e+01</td>\n",
       "      <td>3.641667e+01</td>\n",
       "      <td>1.800000e+00</td>\n",
       "      <td>1.066500e+03</td>\n",
       "    </tr>\n",
       "    <tr>\n",
       "      <th>AVG_MONTHLY_ORD_CUST</th>\n",
       "      <td>1.350000e+01</td>\n",
       "      <td>1.445455e+01</td>\n",
       "      <td>2.883333e+01</td>\n",
       "      <td>1.800000e+00</td>\n",
       "      <td>7.990833e+02</td>\n",
       "    </tr>\n",
       "    <tr>\n",
       "      <th>GMV_GROWTH</th>\n",
       "      <td>1.066986e-01</td>\n",
       "      <td>3.153868e-02</td>\n",
       "      <td>-5.790777e-02</td>\n",
       "      <td>8.361096e-02</td>\n",
       "      <td>6.902904e-03</td>\n",
       "    </tr>\n",
       "    <tr>\n",
       "      <th>ORDER_LINE_GROWTH</th>\n",
       "      <td>9.651241e-02</td>\n",
       "      <td>6.759113e-02</td>\n",
       "      <td>-1.056347e-01</td>\n",
       "      <td>8.333333e-02</td>\n",
       "      <td>6.407062e-03</td>\n",
       "    </tr>\n",
       "    <tr>\n",
       "      <th>QTY_SOLD_GROWTH</th>\n",
       "      <td>1.094146e-01</td>\n",
       "      <td>3.018294e-02</td>\n",
       "      <td>-6.561971e-02</td>\n",
       "      <td>8.333333e-02</td>\n",
       "      <td>4.861500e-03</td>\n",
       "    </tr>\n",
       "    <tr>\n",
       "      <th>ORD_CUST_GROWTH</th>\n",
       "      <td>6.450540e-02</td>\n",
       "      <td>1.017764e-01</td>\n",
       "      <td>-9.447413e-02</td>\n",
       "      <td>8.333333e-02</td>\n",
       "      <td>-2.362699e-03</td>\n",
       "    </tr>\n",
       "  </tbody>\n",
       "</table>\n",
       "</div>"
      ],
      "text/plain": [
       "                                   0             1             2  \\\n",
       "PRODUCT_ID              3.859281e+06  3.859288e+06  3.859290e+06   \n",
       "DATE_MONTH              6.500000e+00  6.000000e+00  6.500000e+00   \n",
       "AVG_MONTHLY_GMV         7.603250e+01  1.106036e+02  9.066083e+01   \n",
       "AVG_MONTHLY_ORDER_LINE  1.433333e+01  1.563636e+01  3.216667e+01   \n",
       "AVG_MONTHLY_QTY_SOLD    1.508333e+01  1.600000e+01  3.641667e+01   \n",
       "AVG_MONTHLY_ORD_CUST    1.350000e+01  1.445455e+01  2.883333e+01   \n",
       "GMV_GROWTH              1.066986e-01  3.153868e-02 -5.790777e-02   \n",
       "ORDER_LINE_GROWTH       9.651241e-02  6.759113e-02 -1.056347e-01   \n",
       "QTY_SOLD_GROWTH         1.094146e-01  3.018294e-02 -6.561971e-02   \n",
       "ORD_CUST_GROWTH         6.450540e-02  1.017764e-01 -9.447413e-02   \n",
       "\n",
       "                                   3             4  \n",
       "PRODUCT_ID              3.859692e+06  3.860143e+06  \n",
       "DATE_MONTH              9.600000e+00  6.500000e+00  \n",
       "AVG_MONTHLY_GMV         1.536200e+01  3.542427e+03  \n",
       "AVG_MONTHLY_ORDER_LINE  1.800000e+00  9.395000e+02  \n",
       "AVG_MONTHLY_QTY_SOLD    1.800000e+00  1.066500e+03  \n",
       "AVG_MONTHLY_ORD_CUST    1.800000e+00  7.990833e+02  \n",
       "GMV_GROWTH              8.361096e-02  6.902904e-03  \n",
       "ORDER_LINE_GROWTH       8.333333e-02  6.407062e-03  \n",
       "QTY_SOLD_GROWTH         8.333333e-02  4.861500e-03  \n",
       "ORD_CUST_GROWTH         8.333333e-02 -2.362699e-03  "
      ]
     },
     "execution_count": null,
     "metadata": {},
     "output_type": "execute_result"
    }
   ],
   "source": [
    "df_growth_final.shape\n",
    "df_growth_final.head().T"
   ]
  },
  {
   "cell_type": "code",
   "execution_count": null,
   "metadata": {},
   "outputs": [
    {
     "data": {
      "text/plain": [
       "3859281     1\n",
       "7738826     1\n",
       "7738911     1\n",
       "7738889     1\n",
       "7738881     1\n",
       "           ..\n",
       "4019606     1\n",
       "4019605     1\n",
       "4019546     1\n",
       "4019545     1\n",
       "10759751    1\n",
       "Name: PRODUCT_ID, Length: 91863, dtype: int64"
      ]
     },
     "execution_count": null,
     "metadata": {},
     "output_type": "execute_result"
    }
   ],
   "source": [
    "df_growth_final['PRODUCT_ID'].value_counts()"
   ]
  },
  {
   "cell_type": "markdown",
   "metadata": {},
   "source": [
    "### Save data - Interim"
   ]
  },
  {
   "cell_type": "markdown",
   "metadata": {},
   "source": [
    "The data loaded using the query is transformed to include additional columns. The original data along with the new columns in saved at the `nbs/data/interim` folder."
   ]
  },
  {
   "cell_type": "code",
   "execution_count": null,
   "metadata": {},
   "outputs": [
    {
     "name": "stderr",
     "output_type": "stream",
     "text": [
      "/Users/ravimulpuri/opt/miniconda3/envs/item_clustering/lib/python3.10/site-packages/pandas/io/sql.py:758: UserWarning: pandas only support SQLAlchemy connectable(engine/connection) ordatabase string URI or sqlite3 DBAPI2 connectionother DBAPI2 objects are not tested, please consider using SQLAlchemy\n",
      "  warnings.warn(\n"
     ]
    }
   ],
   "source": [
    "#hide\n",
    "if use_snowflake:\n",
    "    df_growth_metrics = pd.read_sql(con=con, sql = growth_metrics_query)\n",
    "    df_growth_metrics.to_parquet('data/interim/growth_metrics.parquet')\n",
    "else:\n",
    "    df_growth_metrics = pd.read_parquet('data/interim/growth_metrics.parquet')"
   ]
  },
  {
   "cell_type": "markdown",
   "metadata": {},
   "source": [
    "### First added to the cart"
   ]
  },
  {
   "cell_type": "markdown",
   "metadata": {},
   "source": [
    "#### Query"
   ]
  },
  {
   "cell_type": "code",
   "execution_count": null,
   "metadata": {},
   "outputs": [],
   "source": [
    "first_added_query = \"\"\"\n",
    "with cte as (\n",
    "    select row_number() over (\n",
    "        partition by user_id, session_id order by session_event_row_number\n",
    "        ) as row_number,\n",
    "        seg.event_date, seg.store_id, seg.metro_id, \n",
    "        seg.product_id, seg.order_number, p.name, ol.requested_qty,\n",
    "ol.saved_product_price from\n",
    "og_views.order_lines ol\n",
    "inner join \n",
    "  (\n",
    "  --keep the row that was added first for the same product product_id\n",
    "  select \n",
    "    event_type, user_id, session_id,\n",
    "    min(session_event_row_number) as session_event_row_number,\n",
    "    event_date, platform, store_id,\n",
    "    metro_id, cart_id, product_id, order_number from \n",
    "    (\n",
    "    select car.*, som.order_number from \n",
    "      (\n",
    "      --remove duplicate rows\n",
    "      select event_type, event_type_secondary, event_id, user_id, session_id, \n",
    "      session_event_row_number, event_date, event_time, platform, store_id, \n",
    "      metro_id, cart_id, product_id\n",
    "      from segment.segment_cart_add_remove\n",
    "      group by event_type, event_type_secondary, event_id, user_id, session_id, \n",
    "      session_event_row_number, event_date, event_time, platform, store_id, \n",
    "      metro_id, cart_id, product_id\n",
    "      having event_date between '2021-12-01' and '2021-12-31'\n",
    "      and event_type = 'CART ADD ITEM'\n",
    "      ) car\n",
    "    inner join segment.segment_order_summary som\n",
    "    on car.user_id = som.user_id and\n",
    "    car.session_id = som.session_id\n",
    "    )\n",
    "  group by event_type, user_id, session_id, event_date, platform, store_id,\n",
    "  metro_id, cart_id, product_id, order_number\n",
    "  order by user_id, session_id, session_event_row_number\n",
    "  ) seg\n",
    "--inner join og_views.order_lines ol on\n",
    "on ol.order_id = seg.order_number\n",
    "and ol.requested_product_id= seg.product_id\n",
    "left join og_views.products p\n",
    "on p.id = ol.requested_product_id\n",
    "where to_date(ol.created_at) between '2021-12-01' and '2021-12-31'\n",
    "order by user_id, session_id, session_event_row_number)\n",
    "\n",
    "\n",
    "SELECT  product_id, count(product_id)\n",
    "FROM    cte\n",
    "WHERE   row_number = 1\n",
    "and     metro_id = 49\n",
    "and     store_id = 10\n",
    "group by 1\n",
    "\"\"\""
   ]
  },
  {
   "cell_type": "markdown",
   "metadata": {},
   "source": [
    "#### Save data"
   ]
  },
  {
   "cell_type": "code",
   "execution_count": null,
   "metadata": {},
   "outputs": [
    {
     "name": "stderr",
     "output_type": "stream",
     "text": [
      "/Users/ravimulpuri/opt/miniconda3/envs/item_clustering/lib/python3.10/site-packages/pandas/io/sql.py:758: UserWarning: pandas only support SQLAlchemy connectable(engine/connection) ordatabase string URI or sqlite3 DBAPI2 connectionother DBAPI2 objects are not tested, please consider using SQLAlchemy\n",
      "  warnings.warn(\n"
     ]
    }
   ],
   "source": [
    "#hide\n",
    "if use_snowflake:\n",
    "    df_first_added = pd.read_sql(con=con, sql = first_added_query)\n",
    "    df_first_added.to_parquet('data/raw/first_added.parquet')\n",
    "else:\n",
    "    df_first_added = pd.read_parquet('data/raw/first_added.parquet')"
   ]
  },
  {
   "cell_type": "markdown",
   "metadata": {},
   "source": [
    "Convert `PRODUCT_ID` to integer type and set it as index to the `df_first_added`"
   ]
  },
  {
   "cell_type": "code",
   "execution_count": null,
   "metadata": {},
   "outputs": [],
   "source": [
    "#hide\n",
    "df_first_added['PRODUCT_ID'] = df_first_added['PRODUCT_ID'].astype(int)\n",
    "df_first_added.set_index('PRODUCT_ID', inplace=True)\n",
    "df_first_added.columns = ['FIRST_ADDED_COUNT']"
   ]
  },
  {
   "cell_type": "code",
   "execution_count": null,
   "metadata": {},
   "outputs": [
    {
     "data": {
      "text/plain": [
       "(18133, 1)"
      ]
     },
     "execution_count": null,
     "metadata": {},
     "output_type": "execute_result"
    },
    {
     "data": {
      "text/html": [
       "<div>\n",
       "<style scoped>\n",
       "    .dataframe tbody tr th:only-of-type {\n",
       "        vertical-align: middle;\n",
       "    }\n",
       "\n",
       "    .dataframe tbody tr th {\n",
       "        vertical-align: top;\n",
       "    }\n",
       "\n",
       "    .dataframe thead th {\n",
       "        text-align: right;\n",
       "    }\n",
       "</style>\n",
       "<table border=\"1\" class=\"dataframe\">\n",
       "  <thead>\n",
       "    <tr style=\"text-align: right;\">\n",
       "      <th></th>\n",
       "      <th>FIRST_ADDED_COUNT</th>\n",
       "    </tr>\n",
       "    <tr>\n",
       "      <th>PRODUCT_ID</th>\n",
       "      <th></th>\n",
       "    </tr>\n",
       "  </thead>\n",
       "  <tbody>\n",
       "    <tr>\n",
       "      <th>3961305</th>\n",
       "      <td>8</td>\n",
       "    </tr>\n",
       "    <tr>\n",
       "      <th>3986831</th>\n",
       "      <td>20</td>\n",
       "    </tr>\n",
       "    <tr>\n",
       "      <th>3965215</th>\n",
       "      <td>46</td>\n",
       "    </tr>\n",
       "    <tr>\n",
       "      <th>3968330</th>\n",
       "      <td>3</td>\n",
       "    </tr>\n",
       "    <tr>\n",
       "      <th>3866509</th>\n",
       "      <td>2</td>\n",
       "    </tr>\n",
       "  </tbody>\n",
       "</table>\n",
       "</div>"
      ],
      "text/plain": [
       "            FIRST_ADDED_COUNT\n",
       "PRODUCT_ID                   \n",
       "3961305                     8\n",
       "3986831                    20\n",
       "3965215                    46\n",
       "3968330                     3\n",
       "3866509                     2"
      ]
     },
     "execution_count": null,
     "metadata": {},
     "output_type": "execute_result"
    }
   ],
   "source": [
    "df_first_added.shape\n",
    "df_first_added.head()"
   ]
  },
  {
   "cell_type": "markdown",
   "metadata": {},
   "source": [
    "There are 18,000 products that have been added at least once as the first product to the order"
   ]
  },
  {
   "cell_type": "markdown",
   "metadata": {},
   "source": [
    "## KVI - key value indicators"
   ]
  },
  {
   "cell_type": "markdown",
   "metadata": {},
   "source": [
    "### Query"
   ]
  },
  {
   "cell_type": "code",
   "execution_count": null,
   "metadata": {},
   "outputs": [],
   "source": [
    "kvis_query = \"\"\"\n",
    "SELECT DISTINCT ol.actual_product_id AS PRODUCT_ID,\n",
    "                p.NAME AS PRODUCT_NAME,\n",
    "                sps.KVI\n",
    "FROM PRD_DATALAKEHOUSE.OG_VIEWS.ORDER_LINES ol\n",
    "INNER JOIN PRD_DATALAKEHOUSE.OG_VIEWS.ORDERS o ON ol.order_id = o.id\n",
    "INNER JOIN PRD_DATALAKEHOUSE.OG_VIEWS.METROS m ON m.id = o.metro_id\n",
    "INNER JOIN PRD_DATALAKEHOUSE.OG_VIEWS.STORES s ON s.id = o.store_id\n",
    "INNER JOIN PRD_DATALAKEHOUSE.OG_VIEWS.PRODUCTS p ON p.id = ol.actual_product_id\n",
    "LEFT JOIN PRD_DATALAKEHOUSE.OG_VIEWS.STORE_PRODUCT_SETTINGS sps ON sps.product_id = ol.actual_product_id\n",
    "AND sps.store_id = o.store_id\n",
    "AND sps.metro_id = o.metro_id\n",
    "WHERE o.status ='delivered'\n",
    "  AND ACTUAL_PRODUCT_TYPE = 'Product'\n",
    "  AND is_external_platform_order = FALSE\n",
    "  AND partner_id IS NULL\n",
    "  AND convert_timezone('UTC', 'US/Central', DELIVERED_AT::timestamp_ntz)::date BETWEEN '2021-12-01' AND '2021-12-31'\n",
    "  AND m.name = 'Detroit'\n",
    "  AND s.name = 'Meijer';\n",
    "\"\"\""
   ]
  },
  {
   "cell_type": "markdown",
   "metadata": {},
   "source": [
    "### Save data"
   ]
  },
  {
   "cell_type": "code",
   "execution_count": null,
   "metadata": {},
   "outputs": [
    {
     "name": "stderr",
     "output_type": "stream",
     "text": [
      "/Users/ravimulpuri/opt/miniconda3/envs/item_clustering/lib/python3.10/site-packages/pandas/io/sql.py:758: UserWarning: pandas only support SQLAlchemy connectable(engine/connection) ordatabase string URI or sqlite3 DBAPI2 connectionother DBAPI2 objects are not tested, please consider using SQLAlchemy\n",
      "  warnings.warn(\n"
     ]
    }
   ],
   "source": [
    "#hide\n",
    "if use_snowflake:\n",
    "    df_kvis = pd.read_sql(con=con, sql = kvis_query)\n",
    "    df_kvis.to_parquet('data/raw/kvis.parquet')\n",
    "else:\n",
    "    df_kvis = pd.read_parquet('data/raw/kvis.parquet')"
   ]
  },
  {
   "cell_type": "markdown",
   "metadata": {},
   "source": [
    "Some of the KVI's available are"
   ]
  },
  {
   "cell_type": "code",
   "execution_count": null,
   "metadata": {},
   "outputs": [
    {
     "data": {
      "text/plain": [
       "(49788, 3)"
      ]
     },
     "execution_count": null,
     "metadata": {},
     "output_type": "execute_result"
    },
    {
     "data": {
      "text/html": [
       "<div>\n",
       "<style scoped>\n",
       "    .dataframe tbody tr th:only-of-type {\n",
       "        vertical-align: middle;\n",
       "    }\n",
       "\n",
       "    .dataframe tbody tr th {\n",
       "        vertical-align: top;\n",
       "    }\n",
       "\n",
       "    .dataframe thead th {\n",
       "        text-align: right;\n",
       "    }\n",
       "</style>\n",
       "<table border=\"1\" class=\"dataframe\">\n",
       "  <thead>\n",
       "    <tr style=\"text-align: right;\">\n",
       "      <th></th>\n",
       "      <th>PRODUCT_ID</th>\n",
       "      <th>PRODUCT_NAME</th>\n",
       "      <th>KVI</th>\n",
       "    </tr>\n",
       "  </thead>\n",
       "  <tbody>\n",
       "    <tr>\n",
       "      <th>0</th>\n",
       "      <td>3986421</td>\n",
       "      <td>Microwaveable Beef Stew</td>\n",
       "      <td>False</td>\n",
       "    </tr>\n",
       "    <tr>\n",
       "      <th>1</th>\n",
       "      <td>5772734</td>\n",
       "      <td>Alka-Seltzer Plus Maximum Strength Cold &amp; Flu ...</td>\n",
       "      <td>False</td>\n",
       "    </tr>\n",
       "    <tr>\n",
       "      <th>2</th>\n",
       "      <td>3980192</td>\n",
       "      <td>Sail Cooked Shrimp, Frozen</td>\n",
       "      <td>False</td>\n",
       "    </tr>\n",
       "    <tr>\n",
       "      <th>3</th>\n",
       "      <td>4047775</td>\n",
       "      <td>Conventional Oil 10W</td>\n",
       "      <td>False</td>\n",
       "    </tr>\n",
       "    <tr>\n",
       "      <th>4</th>\n",
       "      <td>4300863</td>\n",
       "      <td>Meijer Omega 3 Krill Oil</td>\n",
       "      <td>False</td>\n",
       "    </tr>\n",
       "  </tbody>\n",
       "</table>\n",
       "</div>"
      ],
      "text/plain": [
       "   PRODUCT_ID                                       PRODUCT_NAME    KVI\n",
       "0     3986421                            Microwaveable Beef Stew  False\n",
       "1     5772734  Alka-Seltzer Plus Maximum Strength Cold & Flu ...  False\n",
       "2     3980192                         Sail Cooked Shrimp, Frozen  False\n",
       "3     4047775                               Conventional Oil 10W  False\n",
       "4     4300863                           Meijer Omega 3 Krill Oil  False"
      ]
     },
     "execution_count": null,
     "metadata": {},
     "output_type": "execute_result"
    }
   ],
   "source": [
    "df_kvis.shape\n",
    "df_kvis.head()"
   ]
  },
  {
   "cell_type": "code",
   "execution_count": null,
   "metadata": {},
   "outputs": [
    {
     "data": {
      "text/plain": [
       "False    48131\n",
       "True      1604\n",
       "Name: KVI, dtype: int64"
      ]
     },
     "execution_count": null,
     "metadata": {},
     "output_type": "execute_result"
    },
    {
     "data": {
      "text/plain": [
       "0.0322509299286217"
      ]
     },
     "execution_count": null,
     "metadata": {},
     "output_type": "execute_result"
    }
   ],
   "source": [
    "df_kvis['KVI'].value_counts()\n",
    "df_kvis['KVI'].mean()"
   ]
  },
  {
   "cell_type": "markdown",
   "metadata": {},
   "source": [
    "> Note: There are 1604 KVI's available which is 3.2% of the total number of products"
   ]
  },
  {
   "cell_type": "markdown",
   "metadata": {},
   "source": [
    "## Combine data"
   ]
  },
  {
   "cell_type": "markdown",
   "metadata": {},
   "source": [
    "Combine the average metrics data, click stream metrics data and growth metrics data at product level"
   ]
  },
  {
   "cell_type": "code",
   "execution_count": null,
   "metadata": {},
   "outputs": [
    {
     "data": {
      "text/plain": [
       "(49991, 12)"
      ]
     },
     "execution_count": null,
     "metadata": {},
     "output_type": "execute_result"
    }
   ],
   "source": [
    "#hide\n",
    "# Merge aavg_metrics with click_stream metric\n",
    "df3 = df_avg_metrics.merge(df_clickstream_metrics, on=['PRODUCT_ID'], how='left', indicator=True)\n",
    "df3.shape"
   ]
  },
  {
   "cell_type": "code",
   "execution_count": null,
   "metadata": {},
   "outputs": [],
   "source": [
    "#hide\n",
    "# drop products which dont have clickstream metrics\n",
    "df3 = df3[df3['_merge'] == 'both']\n",
    "final_df = df3.drop(columns=['PRODUCT_NAME_y', '_merge'])"
   ]
  },
  {
   "cell_type": "code",
   "execution_count": null,
   "metadata": {},
   "outputs": [
    {
     "data": {
      "text/plain": [
       "(47317, 20)"
      ]
     },
     "execution_count": null,
     "metadata": {},
     "output_type": "execute_result"
    }
   ],
   "source": [
    "#hide\n",
    "# Merge growth_metrics to the final_df\n",
    "final_df = final_df.merge(df_growth_final, on=['PRODUCT_ID'], how='left', indicator=True)\n",
    "final_df.shape"
   ]
  },
  {
   "cell_type": "code",
   "execution_count": null,
   "metadata": {},
   "outputs": [],
   "source": [
    "#hide\n",
    "# drop products which dont have growth metrics\n",
    "# final_df has data for each product from order_financials, clickstream, and growth metrics\n",
    "final_df = final_df.drop(columns=['_merge'])\n",
    "final_df = final_df.dropna() \n",
    "final_df.set_index('PRODUCT_ID', inplace=True)"
   ]
  },
  {
   "cell_type": "code",
   "execution_count": null,
   "metadata": {},
   "outputs": [],
   "source": [
    "#hide\n",
    "# Merge df_first_added to the final_df and fill in missing values with 0\n",
    "final_df = final_df.merge(df_first_added, on=['PRODUCT_ID'], how='left')\n",
    "final_df['FIRST_ADDED_COUNT'] = final_df['FIRST_ADDED_COUNT'].fillna(0)"
   ]
  },
  {
   "cell_type": "code",
   "execution_count": null,
   "metadata": {},
   "outputs": [
    {
     "data": {
      "text/plain": [
       "(45206, 19)"
      ]
     },
     "execution_count": null,
     "metadata": {},
     "output_type": "execute_result"
    },
    {
     "data": {
      "text/html": [
       "<div>\n",
       "<style scoped>\n",
       "    .dataframe tbody tr th:only-of-type {\n",
       "        vertical-align: middle;\n",
       "    }\n",
       "\n",
       "    .dataframe tbody tr th {\n",
       "        vertical-align: top;\n",
       "    }\n",
       "\n",
       "    .dataframe thead th {\n",
       "        text-align: right;\n",
       "    }\n",
       "</style>\n",
       "<table border=\"1\" class=\"dataframe\">\n",
       "  <thead>\n",
       "    <tr style=\"text-align: right;\">\n",
       "      <th></th>\n",
       "      <th>PRODUCT_NAME_x</th>\n",
       "      <th>AVG_GMV</th>\n",
       "      <th>AVG_ORDERLINES</th>\n",
       "      <th>AVG_QTY</th>\n",
       "      <th>AVG_COST</th>\n",
       "      <th>AVG_PRICE</th>\n",
       "      <th>AVG_CUST_COUNT</th>\n",
       "      <th>AVG_CART_ADD_DAILY</th>\n",
       "      <th>ADD_TO_ORDER_DAILY</th>\n",
       "      <th>DATE_MONTH</th>\n",
       "      <th>AVG_MONTHLY_GMV</th>\n",
       "      <th>AVG_MONTHLY_ORDER_LINE</th>\n",
       "      <th>AVG_MONTHLY_QTY_SOLD</th>\n",
       "      <th>AVG_MONTHLY_ORD_CUST</th>\n",
       "      <th>GMV_GROWTH</th>\n",
       "      <th>ORDER_LINE_GROWTH</th>\n",
       "      <th>QTY_SOLD_GROWTH</th>\n",
       "      <th>ORD_CUST_GROWTH</th>\n",
       "      <th>FIRST_ADDED_COUNT</th>\n",
       "    </tr>\n",
       "    <tr>\n",
       "      <th>PRODUCT_ID</th>\n",
       "      <th></th>\n",
       "      <th></th>\n",
       "      <th></th>\n",
       "      <th></th>\n",
       "      <th></th>\n",
       "      <th></th>\n",
       "      <th></th>\n",
       "      <th></th>\n",
       "      <th></th>\n",
       "      <th></th>\n",
       "      <th></th>\n",
       "      <th></th>\n",
       "      <th></th>\n",
       "      <th></th>\n",
       "      <th></th>\n",
       "      <th></th>\n",
       "      <th></th>\n",
       "      <th></th>\n",
       "      <th></th>\n",
       "    </tr>\n",
       "  </thead>\n",
       "  <tbody>\n",
       "    <tr>\n",
       "      <th>10433693</th>\n",
       "      <td>\" Handcrafted Ornament Set, 1\"\" RoundDecember ...</td>\n",
       "      <td>7.590000</td>\n",
       "      <td>1.000000</td>\n",
       "      <td>1.000000</td>\n",
       "      <td>6.990000</td>\n",
       "      <td>7.590000</td>\n",
       "      <td>1.000000</td>\n",
       "      <td>1.000000</td>\n",
       "      <td>0.000000</td>\n",
       "      <td>11.500000</td>\n",
       "      <td>7.590000</td>\n",
       "      <td>1.000000</td>\n",
       "      <td>1.000000</td>\n",
       "      <td>1.000000</td>\n",
       "      <td>0.000000</td>\n",
       "      <td>0.000000</td>\n",
       "      <td>0.000000</td>\n",
       "      <td>0.000000</td>\n",
       "      <td>0.0</td>\n",
       "    </tr>\n",
       "    <tr>\n",
       "      <th>4264419</th>\n",
       "      <td>\"I and love and you\" Cat Can Variety Pack</td>\n",
       "      <td>66.360000</td>\n",
       "      <td>1.000000</td>\n",
       "      <td>4.000000</td>\n",
       "      <td>13.990000</td>\n",
       "      <td>16.590000</td>\n",
       "      <td>1.000000</td>\n",
       "      <td>1.666667</td>\n",
       "      <td>0.333333</td>\n",
       "      <td>7.166667</td>\n",
       "      <td>73.538333</td>\n",
       "      <td>2.666667</td>\n",
       "      <td>4.500000</td>\n",
       "      <td>2.500000</td>\n",
       "      <td>1.464564</td>\n",
       "      <td>0.600000</td>\n",
       "      <td>1.453333</td>\n",
       "      <td>0.420000</td>\n",
       "      <td>0.0</td>\n",
       "    </tr>\n",
       "    <tr>\n",
       "      <th>8381569</th>\n",
       "      <td>\"JIFFY\" Honey Corn Muffin Mix</td>\n",
       "      <td>3.926471</td>\n",
       "      <td>2.411765</td>\n",
       "      <td>4.411765</td>\n",
       "      <td>1.664118</td>\n",
       "      <td>2.146471</td>\n",
       "      <td>2.352941</td>\n",
       "      <td>3.476190</td>\n",
       "      <td>0.190476</td>\n",
       "      <td>6.500000</td>\n",
       "      <td>39.597500</td>\n",
       "      <td>23.416667</td>\n",
       "      <td>41.916667</td>\n",
       "      <td>22.166667</td>\n",
       "      <td>0.168529</td>\n",
       "      <td>0.167238</td>\n",
       "      <td>0.202161</td>\n",
       "      <td>0.162516</td>\n",
       "      <td>0.0</td>\n",
       "    </tr>\n",
       "    <tr>\n",
       "      <th>9820133</th>\n",
       "      <td>\"This RITZ Sauté Black Honeycomb Solid Dual Ki...</td>\n",
       "      <td>3.790000</td>\n",
       "      <td>1.000000</td>\n",
       "      <td>1.000000</td>\n",
       "      <td>3.490000</td>\n",
       "      <td>3.790000</td>\n",
       "      <td>1.000000</td>\n",
       "      <td>1.000000</td>\n",
       "      <td>0.000000</td>\n",
       "      <td>10.000000</td>\n",
       "      <td>7.285000</td>\n",
       "      <td>1.000000</td>\n",
       "      <td>1.500000</td>\n",
       "      <td>1.000000</td>\n",
       "      <td>-0.648423</td>\n",
       "      <td>0.000000</td>\n",
       "      <td>-0.500000</td>\n",
       "      <td>0.000000</td>\n",
       "      <td>0.0</td>\n",
       "    </tr>\n",
       "    <tr>\n",
       "      <th>3945853</th>\n",
       "      <td>#10 Security Boxed Envelopes</td>\n",
       "      <td>2.934545</td>\n",
       "      <td>1.090909</td>\n",
       "      <td>1.090909</td>\n",
       "      <td>2.716364</td>\n",
       "      <td>2.934545</td>\n",
       "      <td>1.090909</td>\n",
       "      <td>1.166667</td>\n",
       "      <td>0.083333</td>\n",
       "      <td>6.500000</td>\n",
       "      <td>21.520000</td>\n",
       "      <td>7.750000</td>\n",
       "      <td>8.000000</td>\n",
       "      <td>7.750000</td>\n",
       "      <td>0.479654</td>\n",
       "      <td>0.458442</td>\n",
       "      <td>0.479654</td>\n",
       "      <td>0.458442</td>\n",
       "      <td>0.0</td>\n",
       "    </tr>\n",
       "  </tbody>\n",
       "</table>\n",
       "</div>"
      ],
      "text/plain": [
       "                                               PRODUCT_NAME_x    AVG_GMV  \\\n",
       "PRODUCT_ID                                                                 \n",
       "10433693    \" Handcrafted Ornament Set, 1\"\" RoundDecember ...   7.590000   \n",
       "4264419             \"I and love and you\" Cat Can Variety Pack  66.360000   \n",
       "8381569                         \"JIFFY\" Honey Corn Muffin Mix   3.926471   \n",
       "9820133     \"This RITZ Sauté Black Honeycomb Solid Dual Ki...   3.790000   \n",
       "3945853                          #10 Security Boxed Envelopes   2.934545   \n",
       "\n",
       "            AVG_ORDERLINES   AVG_QTY   AVG_COST  AVG_PRICE  AVG_CUST_COUNT  \\\n",
       "PRODUCT_ID                                                                   \n",
       "10433693          1.000000  1.000000   6.990000   7.590000        1.000000   \n",
       "4264419           1.000000  4.000000  13.990000  16.590000        1.000000   \n",
       "8381569           2.411765  4.411765   1.664118   2.146471        2.352941   \n",
       "9820133           1.000000  1.000000   3.490000   3.790000        1.000000   \n",
       "3945853           1.090909  1.090909   2.716364   2.934545        1.090909   \n",
       "\n",
       "            AVG_CART_ADD_DAILY  ADD_TO_ORDER_DAILY  DATE_MONTH  \\\n",
       "PRODUCT_ID                                                       \n",
       "10433693              1.000000            0.000000   11.500000   \n",
       "4264419               1.666667            0.333333    7.166667   \n",
       "8381569               3.476190            0.190476    6.500000   \n",
       "9820133               1.000000            0.000000   10.000000   \n",
       "3945853               1.166667            0.083333    6.500000   \n",
       "\n",
       "            AVG_MONTHLY_GMV  AVG_MONTHLY_ORDER_LINE  AVG_MONTHLY_QTY_SOLD  \\\n",
       "PRODUCT_ID                                                                  \n",
       "10433693           7.590000                1.000000              1.000000   \n",
       "4264419           73.538333                2.666667              4.500000   \n",
       "8381569           39.597500               23.416667             41.916667   \n",
       "9820133            7.285000                1.000000              1.500000   \n",
       "3945853           21.520000                7.750000              8.000000   \n",
       "\n",
       "            AVG_MONTHLY_ORD_CUST  GMV_GROWTH  ORDER_LINE_GROWTH  \\\n",
       "PRODUCT_ID                                                        \n",
       "10433693                1.000000    0.000000           0.000000   \n",
       "4264419                 2.500000    1.464564           0.600000   \n",
       "8381569                22.166667    0.168529           0.167238   \n",
       "9820133                 1.000000   -0.648423           0.000000   \n",
       "3945853                 7.750000    0.479654           0.458442   \n",
       "\n",
       "            QTY_SOLD_GROWTH  ORD_CUST_GROWTH  FIRST_ADDED_COUNT  \n",
       "PRODUCT_ID                                                       \n",
       "10433693           0.000000         0.000000                0.0  \n",
       "4264419            1.453333         0.420000                0.0  \n",
       "8381569            0.202161         0.162516                0.0  \n",
       "9820133           -0.500000         0.000000                0.0  \n",
       "3945853            0.479654         0.458442                0.0  "
      ]
     },
     "execution_count": null,
     "metadata": {},
     "output_type": "execute_result"
    }
   ],
   "source": [
    "final_df.shape\n",
    "final_df.head()"
   ]
  },
  {
   "cell_type": "markdown",
   "metadata": {},
   "source": [
    "## Numeric columns"
   ]
  },
  {
   "cell_type": "markdown",
   "metadata": {},
   "source": [
    "`PRODUCT_NAME` cant be converted to numeric type. It is a categorical column. So it is not included in the scaling process"
   ]
  },
  {
   "cell_type": "code",
   "execution_count": null,
   "metadata": {},
   "outputs": [
    {
     "data": {
      "text/plain": [
       "['AVG_GMV',\n",
       " 'AVG_ORDERLINES',\n",
       " 'AVG_QTY',\n",
       " 'AVG_COST',\n",
       " 'AVG_PRICE',\n",
       " 'AVG_CUST_COUNT',\n",
       " 'AVG_CART_ADD_DAILY',\n",
       " 'ADD_TO_ORDER_DAILY',\n",
       " 'DATE_MONTH',\n",
       " 'AVG_MONTHLY_GMV',\n",
       " 'AVG_MONTHLY_ORDER_LINE',\n",
       " 'AVG_MONTHLY_QTY_SOLD',\n",
       " 'AVG_MONTHLY_ORD_CUST',\n",
       " 'GMV_GROWTH',\n",
       " 'ORDER_LINE_GROWTH',\n",
       " 'QTY_SOLD_GROWTH',\n",
       " 'ORD_CUST_GROWTH',\n",
       " 'FIRST_ADDED_COUNT']"
      ]
     },
     "execution_count": null,
     "metadata": {},
     "output_type": "execute_result"
    }
   ],
   "source": [
    "numerical_cols = [c for c in final_df.columns if final_df[c].dtype in ['int64', 'float64']]\n",
    "numerical_cols"
   ]
  },
  {
   "cell_type": "markdown",
   "metadata": {},
   "source": [
    "## Scaling"
   ]
  },
  {
   "cell_type": "markdown",
   "metadata": {},
   "source": [
    "Scaling the data to bring the data to the same scale for all the columns"
   ]
  },
  {
   "cell_type": "markdown",
   "metadata": {},
   "source": [
    "### Standard scaling"
   ]
  },
  {
   "cell_type": "markdown",
   "metadata": {},
   "source": [
    "Standard scaling uses the mean and standard deviation to scale the data. `DATE_MONTH` is also normalized. The variable varies linearly for each product. So this may not be a good way to scale this column"
   ]
  },
  {
   "cell_type": "markdown",
   "metadata": {},
   "source": [
    "- Data before scaling"
   ]
  },
  {
   "cell_type": "code",
   "execution_count": null,
   "metadata": {},
   "outputs": [
    {
     "data": {
      "text/plain": [
       "(45206, 19)"
      ]
     },
     "execution_count": null,
     "metadata": {},
     "output_type": "execute_result"
    },
    {
     "data": {
      "text/html": [
       "<div>\n",
       "<style scoped>\n",
       "    .dataframe tbody tr th:only-of-type {\n",
       "        vertical-align: middle;\n",
       "    }\n",
       "\n",
       "    .dataframe tbody tr th {\n",
       "        vertical-align: top;\n",
       "    }\n",
       "\n",
       "    .dataframe thead th {\n",
       "        text-align: right;\n",
       "    }\n",
       "</style>\n",
       "<table border=\"1\" class=\"dataframe\">\n",
       "  <thead>\n",
       "    <tr style=\"text-align: right;\">\n",
       "      <th>PRODUCT_ID</th>\n",
       "      <th>10433693</th>\n",
       "      <th>4264419</th>\n",
       "      <th>8381569</th>\n",
       "      <th>9820133</th>\n",
       "      <th>3945853</th>\n",
       "    </tr>\n",
       "  </thead>\n",
       "  <tbody>\n",
       "    <tr>\n",
       "      <th>AVG_GMV</th>\n",
       "      <td>7.59</td>\n",
       "      <td>66.360000</td>\n",
       "      <td>3.926471</td>\n",
       "      <td>3.790000</td>\n",
       "      <td>2.934545</td>\n",
       "    </tr>\n",
       "    <tr>\n",
       "      <th>AVG_ORDERLINES</th>\n",
       "      <td>1.00</td>\n",
       "      <td>1.000000</td>\n",
       "      <td>2.411765</td>\n",
       "      <td>1.000000</td>\n",
       "      <td>1.090909</td>\n",
       "    </tr>\n",
       "    <tr>\n",
       "      <th>AVG_QTY</th>\n",
       "      <td>1.00</td>\n",
       "      <td>4.000000</td>\n",
       "      <td>4.411765</td>\n",
       "      <td>1.000000</td>\n",
       "      <td>1.090909</td>\n",
       "    </tr>\n",
       "    <tr>\n",
       "      <th>AVG_COST</th>\n",
       "      <td>6.99</td>\n",
       "      <td>13.990000</td>\n",
       "      <td>1.664118</td>\n",
       "      <td>3.490000</td>\n",
       "      <td>2.716364</td>\n",
       "    </tr>\n",
       "    <tr>\n",
       "      <th>AVG_PRICE</th>\n",
       "      <td>7.59</td>\n",
       "      <td>16.590000</td>\n",
       "      <td>2.146471</td>\n",
       "      <td>3.790000</td>\n",
       "      <td>2.934545</td>\n",
       "    </tr>\n",
       "    <tr>\n",
       "      <th>AVG_CUST_COUNT</th>\n",
       "      <td>1.00</td>\n",
       "      <td>1.000000</td>\n",
       "      <td>2.352941</td>\n",
       "      <td>1.000000</td>\n",
       "      <td>1.090909</td>\n",
       "    </tr>\n",
       "    <tr>\n",
       "      <th>AVG_CART_ADD_DAILY</th>\n",
       "      <td>1.00</td>\n",
       "      <td>1.666667</td>\n",
       "      <td>3.476190</td>\n",
       "      <td>1.000000</td>\n",
       "      <td>1.166667</td>\n",
       "    </tr>\n",
       "    <tr>\n",
       "      <th>ADD_TO_ORDER_DAILY</th>\n",
       "      <td>0.00</td>\n",
       "      <td>0.333333</td>\n",
       "      <td>0.190476</td>\n",
       "      <td>0.000000</td>\n",
       "      <td>0.083333</td>\n",
       "    </tr>\n",
       "    <tr>\n",
       "      <th>DATE_MONTH</th>\n",
       "      <td>11.50</td>\n",
       "      <td>7.166667</td>\n",
       "      <td>6.500000</td>\n",
       "      <td>10.000000</td>\n",
       "      <td>6.500000</td>\n",
       "    </tr>\n",
       "    <tr>\n",
       "      <th>AVG_MONTHLY_GMV</th>\n",
       "      <td>7.59</td>\n",
       "      <td>73.538333</td>\n",
       "      <td>39.597500</td>\n",
       "      <td>7.285000</td>\n",
       "      <td>21.520000</td>\n",
       "    </tr>\n",
       "    <tr>\n",
       "      <th>AVG_MONTHLY_ORDER_LINE</th>\n",
       "      <td>1.00</td>\n",
       "      <td>2.666667</td>\n",
       "      <td>23.416667</td>\n",
       "      <td>1.000000</td>\n",
       "      <td>7.750000</td>\n",
       "    </tr>\n",
       "    <tr>\n",
       "      <th>AVG_MONTHLY_QTY_SOLD</th>\n",
       "      <td>1.00</td>\n",
       "      <td>4.500000</td>\n",
       "      <td>41.916667</td>\n",
       "      <td>1.500000</td>\n",
       "      <td>8.000000</td>\n",
       "    </tr>\n",
       "    <tr>\n",
       "      <th>AVG_MONTHLY_ORD_CUST</th>\n",
       "      <td>1.00</td>\n",
       "      <td>2.500000</td>\n",
       "      <td>22.166667</td>\n",
       "      <td>1.000000</td>\n",
       "      <td>7.750000</td>\n",
       "    </tr>\n",
       "    <tr>\n",
       "      <th>GMV_GROWTH</th>\n",
       "      <td>0.00</td>\n",
       "      <td>1.464564</td>\n",
       "      <td>0.168529</td>\n",
       "      <td>-0.648423</td>\n",
       "      <td>0.479654</td>\n",
       "    </tr>\n",
       "    <tr>\n",
       "      <th>ORDER_LINE_GROWTH</th>\n",
       "      <td>0.00</td>\n",
       "      <td>0.600000</td>\n",
       "      <td>0.167238</td>\n",
       "      <td>0.000000</td>\n",
       "      <td>0.458442</td>\n",
       "    </tr>\n",
       "    <tr>\n",
       "      <th>QTY_SOLD_GROWTH</th>\n",
       "      <td>0.00</td>\n",
       "      <td>1.453333</td>\n",
       "      <td>0.202161</td>\n",
       "      <td>-0.500000</td>\n",
       "      <td>0.479654</td>\n",
       "    </tr>\n",
       "    <tr>\n",
       "      <th>ORD_CUST_GROWTH</th>\n",
       "      <td>0.00</td>\n",
       "      <td>0.420000</td>\n",
       "      <td>0.162516</td>\n",
       "      <td>0.000000</td>\n",
       "      <td>0.458442</td>\n",
       "    </tr>\n",
       "    <tr>\n",
       "      <th>FIRST_ADDED_COUNT</th>\n",
       "      <td>0.00</td>\n",
       "      <td>0.000000</td>\n",
       "      <td>0.000000</td>\n",
       "      <td>0.000000</td>\n",
       "      <td>0.000000</td>\n",
       "    </tr>\n",
       "  </tbody>\n",
       "</table>\n",
       "</div>"
      ],
      "text/plain": [
       "PRODUCT_ID              10433693   4264419    8381569    9820133    3945853 \n",
       "AVG_GMV                     7.59  66.360000   3.926471   3.790000   2.934545\n",
       "AVG_ORDERLINES              1.00   1.000000   2.411765   1.000000   1.090909\n",
       "AVG_QTY                     1.00   4.000000   4.411765   1.000000   1.090909\n",
       "AVG_COST                    6.99  13.990000   1.664118   3.490000   2.716364\n",
       "AVG_PRICE                   7.59  16.590000   2.146471   3.790000   2.934545\n",
       "AVG_CUST_COUNT              1.00   1.000000   2.352941   1.000000   1.090909\n",
       "AVG_CART_ADD_DAILY          1.00   1.666667   3.476190   1.000000   1.166667\n",
       "ADD_TO_ORDER_DAILY          0.00   0.333333   0.190476   0.000000   0.083333\n",
       "DATE_MONTH                 11.50   7.166667   6.500000  10.000000   6.500000\n",
       "AVG_MONTHLY_GMV             7.59  73.538333  39.597500   7.285000  21.520000\n",
       "AVG_MONTHLY_ORDER_LINE      1.00   2.666667  23.416667   1.000000   7.750000\n",
       "AVG_MONTHLY_QTY_SOLD        1.00   4.500000  41.916667   1.500000   8.000000\n",
       "AVG_MONTHLY_ORD_CUST        1.00   2.500000  22.166667   1.000000   7.750000\n",
       "GMV_GROWTH                  0.00   1.464564   0.168529  -0.648423   0.479654\n",
       "ORDER_LINE_GROWTH           0.00   0.600000   0.167238   0.000000   0.458442\n",
       "QTY_SOLD_GROWTH             0.00   1.453333   0.202161  -0.500000   0.479654\n",
       "ORD_CUST_GROWTH             0.00   0.420000   0.162516   0.000000   0.458442\n",
       "FIRST_ADDED_COUNT           0.00   0.000000   0.000000   0.000000   0.000000"
      ]
     },
     "execution_count": null,
     "metadata": {},
     "output_type": "execute_result"
    }
   ],
   "source": [
    "final_df.shape\n",
    "final_df[numerical_cols].head().T"
   ]
  },
  {
   "cell_type": "code",
   "execution_count": null,
   "metadata": {},
   "outputs": [],
   "source": [
    "#hide\n",
    "from scipy import stats\n",
    "# the first column is product_name. So we drop it\n",
    "final_df_std_scaling = stats.zscore(final_df[numerical_cols])"
   ]
  },
  {
   "cell_type": "markdown",
   "metadata": {},
   "source": [
    "- Data after scaling"
   ]
  },
  {
   "cell_type": "code",
   "execution_count": null,
   "metadata": {},
   "outputs": [
    {
     "data": {
      "text/plain": [
       "(45206, 18)"
      ]
     },
     "execution_count": null,
     "metadata": {},
     "output_type": "execute_result"
    },
    {
     "data": {
      "text/html": [
       "<div>\n",
       "<style scoped>\n",
       "    .dataframe tbody tr th:only-of-type {\n",
       "        vertical-align: middle;\n",
       "    }\n",
       "\n",
       "    .dataframe tbody tr th {\n",
       "        vertical-align: top;\n",
       "    }\n",
       "\n",
       "    .dataframe thead th {\n",
       "        text-align: right;\n",
       "    }\n",
       "</style>\n",
       "<table border=\"1\" class=\"dataframe\">\n",
       "  <thead>\n",
       "    <tr style=\"text-align: right;\">\n",
       "      <th>PRODUCT_ID</th>\n",
       "      <th>10433693</th>\n",
       "      <th>4264419</th>\n",
       "      <th>8381569</th>\n",
       "      <th>9820133</th>\n",
       "      <th>3945853</th>\n",
       "    </tr>\n",
       "  </thead>\n",
       "  <tbody>\n",
       "    <tr>\n",
       "      <th>AVG_GMV</th>\n",
       "      <td>-0.268471</td>\n",
       "      <td>1.820673</td>\n",
       "      <td>-0.398701</td>\n",
       "      <td>-0.403553</td>\n",
       "      <td>-0.433962</td>\n",
       "    </tr>\n",
       "    <tr>\n",
       "      <th>AVG_ORDERLINES</th>\n",
       "      <td>-0.160189</td>\n",
       "      <td>-0.160189</td>\n",
       "      <td>0.048793</td>\n",
       "      <td>-0.160189</td>\n",
       "      <td>-0.146732</td>\n",
       "    </tr>\n",
       "    <tr>\n",
       "      <th>AVG_QTY</th>\n",
       "      <td>-0.092161</td>\n",
       "      <td>0.059573</td>\n",
       "      <td>0.080400</td>\n",
       "      <td>-0.092161</td>\n",
       "      <td>-0.087563</td>\n",
       "    </tr>\n",
       "    <tr>\n",
       "      <th>AVG_COST</th>\n",
       "      <td>-0.212606</td>\n",
       "      <td>0.153996</td>\n",
       "      <td>-0.491531</td>\n",
       "      <td>-0.395907</td>\n",
       "      <td>-0.436423</td>\n",
       "    </tr>\n",
       "    <tr>\n",
       "      <th>AVG_PRICE</th>\n",
       "      <td>-0.241144</td>\n",
       "      <td>0.177262</td>\n",
       "      <td>-0.494210</td>\n",
       "      <td>-0.417804</td>\n",
       "      <td>-0.457573</td>\n",
       "    </tr>\n",
       "    <tr>\n",
       "      <th>AVG_CUST_COUNT</th>\n",
       "      <td>-0.158776</td>\n",
       "      <td>-0.158776</td>\n",
       "      <td>0.042060</td>\n",
       "      <td>-0.158776</td>\n",
       "      <td>-0.145281</td>\n",
       "    </tr>\n",
       "    <tr>\n",
       "      <th>AVG_CART_ADD_DAILY</th>\n",
       "      <td>-0.102077</td>\n",
       "      <td>-0.064090</td>\n",
       "      <td>0.039020</td>\n",
       "      <td>-0.102077</td>\n",
       "      <td>-0.092580</td>\n",
       "    </tr>\n",
       "    <tr>\n",
       "      <th>ADD_TO_ORDER_DAILY</th>\n",
       "      <td>-0.298786</td>\n",
       "      <td>0.522763</td>\n",
       "      <td>0.170670</td>\n",
       "      <td>-0.298786</td>\n",
       "      <td>-0.093399</td>\n",
       "    </tr>\n",
       "    <tr>\n",
       "      <th>DATE_MONTH</th>\n",
       "      <td>3.338651</td>\n",
       "      <td>0.080649</td>\n",
       "      <td>-0.420582</td>\n",
       "      <td>2.210881</td>\n",
       "      <td>-0.420582</td>\n",
       "    </tr>\n",
       "    <tr>\n",
       "      <th>AVG_MONTHLY_GMV</th>\n",
       "      <td>-0.245118</td>\n",
       "      <td>-0.163668</td>\n",
       "      <td>-0.205587</td>\n",
       "      <td>-0.245495</td>\n",
       "      <td>-0.227914</td>\n",
       "    </tr>\n",
       "    <tr>\n",
       "      <th>AVG_MONTHLY_ORDER_LINE</th>\n",
       "      <td>-0.172591</td>\n",
       "      <td>-0.165122</td>\n",
       "      <td>-0.072134</td>\n",
       "      <td>-0.172591</td>\n",
       "      <td>-0.142342</td>\n",
       "    </tr>\n",
       "    <tr>\n",
       "      <th>AVG_MONTHLY_QTY_SOLD</th>\n",
       "      <td>-0.082724</td>\n",
       "      <td>-0.077471</td>\n",
       "      <td>-0.021315</td>\n",
       "      <td>-0.081974</td>\n",
       "      <td>-0.072218</td>\n",
       "    </tr>\n",
       "    <tr>\n",
       "      <th>AVG_MONTHLY_ORD_CUST</th>\n",
       "      <td>-0.208169</td>\n",
       "      <td>-0.198505</td>\n",
       "      <td>-0.071803</td>\n",
       "      <td>-0.208169</td>\n",
       "      <td>-0.164682</td>\n",
       "    </tr>\n",
       "    <tr>\n",
       "      <th>GMV_GROWTH</th>\n",
       "      <td>-0.322859</td>\n",
       "      <td>0.811057</td>\n",
       "      <td>-0.192378</td>\n",
       "      <td>-0.824891</td>\n",
       "      <td>0.048505</td>\n",
       "    </tr>\n",
       "    <tr>\n",
       "      <th>ORDER_LINE_GROWTH</th>\n",
       "      <td>-0.305431</td>\n",
       "      <td>0.229072</td>\n",
       "      <td>-0.156449</td>\n",
       "      <td>-0.305431</td>\n",
       "      <td>0.102966</td>\n",
       "    </tr>\n",
       "    <tr>\n",
       "      <th>QTY_SOLD_GROWTH</th>\n",
       "      <td>-0.305521</td>\n",
       "      <td>0.776639</td>\n",
       "      <td>-0.154990</td>\n",
       "      <td>-0.677824</td>\n",
       "      <td>0.051632</td>\n",
       "    </tr>\n",
       "    <tr>\n",
       "      <th>ORD_CUST_GROWTH</th>\n",
       "      <td>-0.305271</td>\n",
       "      <td>0.088995</td>\n",
       "      <td>-0.152713</td>\n",
       "      <td>-0.305271</td>\n",
       "      <td>0.125082</td>\n",
       "    </tr>\n",
       "    <tr>\n",
       "      <th>FIRST_ADDED_COUNT</th>\n",
       "      <td>-0.140379</td>\n",
       "      <td>-0.140379</td>\n",
       "      <td>-0.140379</td>\n",
       "      <td>-0.140379</td>\n",
       "      <td>-0.140379</td>\n",
       "    </tr>\n",
       "  </tbody>\n",
       "</table>\n",
       "</div>"
      ],
      "text/plain": [
       "PRODUCT_ID              10433693  4264419   8381569   9820133   3945853 \n",
       "AVG_GMV                -0.268471  1.820673 -0.398701 -0.403553 -0.433962\n",
       "AVG_ORDERLINES         -0.160189 -0.160189  0.048793 -0.160189 -0.146732\n",
       "AVG_QTY                -0.092161  0.059573  0.080400 -0.092161 -0.087563\n",
       "AVG_COST               -0.212606  0.153996 -0.491531 -0.395907 -0.436423\n",
       "AVG_PRICE              -0.241144  0.177262 -0.494210 -0.417804 -0.457573\n",
       "AVG_CUST_COUNT         -0.158776 -0.158776  0.042060 -0.158776 -0.145281\n",
       "AVG_CART_ADD_DAILY     -0.102077 -0.064090  0.039020 -0.102077 -0.092580\n",
       "ADD_TO_ORDER_DAILY     -0.298786  0.522763  0.170670 -0.298786 -0.093399\n",
       "DATE_MONTH              3.338651  0.080649 -0.420582  2.210881 -0.420582\n",
       "AVG_MONTHLY_GMV        -0.245118 -0.163668 -0.205587 -0.245495 -0.227914\n",
       "AVG_MONTHLY_ORDER_LINE -0.172591 -0.165122 -0.072134 -0.172591 -0.142342\n",
       "AVG_MONTHLY_QTY_SOLD   -0.082724 -0.077471 -0.021315 -0.081974 -0.072218\n",
       "AVG_MONTHLY_ORD_CUST   -0.208169 -0.198505 -0.071803 -0.208169 -0.164682\n",
       "GMV_GROWTH             -0.322859  0.811057 -0.192378 -0.824891  0.048505\n",
       "ORDER_LINE_GROWTH      -0.305431  0.229072 -0.156449 -0.305431  0.102966\n",
       "QTY_SOLD_GROWTH        -0.305521  0.776639 -0.154990 -0.677824  0.051632\n",
       "ORD_CUST_GROWTH        -0.305271  0.088995 -0.152713 -0.305271  0.125082\n",
       "FIRST_ADDED_COUNT      -0.140379 -0.140379 -0.140379 -0.140379 -0.140379"
      ]
     },
     "execution_count": null,
     "metadata": {},
     "output_type": "execute_result"
    }
   ],
   "source": [
    "final_df_std_scaling.shape\n",
    "final_df_std_scaling.head().T"
   ]
  },
  {
   "cell_type": "markdown",
   "metadata": {},
   "source": [
    "### Robust scaling"
   ]
  },
  {
   "cell_type": "markdown",
   "metadata": {},
   "source": [
    "Robust scaling uses the median and IQR to scale the data. The scaling is more robust to outliers. "
   ]
  },
  {
   "cell_type": "code",
   "execution_count": null,
   "metadata": {},
   "outputs": [],
   "source": [
    "#hide\n",
    "from sklearn.preprocessing import RobustScaler\n",
    "\n",
    "transformer = RobustScaler(quantile_range=(2, 98)).fit((final_df[numerical_cols]))\n",
    "final_df_robust_scaling = transformer.transform(final_df[numerical_cols])\n",
    "final_df_robust_scaling = pd.DataFrame(final_df_robust_scaling, columns=final_df[numerical_cols].columns)"
   ]
  },
  {
   "cell_type": "markdown",
   "metadata": {},
   "source": [
    "After scaling the data using robust scaling"
   ]
  },
  {
   "cell_type": "code",
   "execution_count": null,
   "metadata": {},
   "outputs": [
    {
     "data": {
      "text/plain": [
       "(45206, 18)"
      ]
     },
     "execution_count": null,
     "metadata": {},
     "output_type": "execute_result"
    },
    {
     "data": {
      "text/html": [
       "<div>\n",
       "<style scoped>\n",
       "    .dataframe tbody tr th:only-of-type {\n",
       "        vertical-align: middle;\n",
       "    }\n",
       "\n",
       "    .dataframe tbody tr th {\n",
       "        vertical-align: top;\n",
       "    }\n",
       "\n",
       "    .dataframe thead th {\n",
       "        text-align: right;\n",
       "    }\n",
       "</style>\n",
       "<table border=\"1\" class=\"dataframe\">\n",
       "  <thead>\n",
       "    <tr style=\"text-align: right;\">\n",
       "      <th></th>\n",
       "      <th>0</th>\n",
       "      <th>1</th>\n",
       "      <th>2</th>\n",
       "      <th>3</th>\n",
       "      <th>4</th>\n",
       "    </tr>\n",
       "  </thead>\n",
       "  <tbody>\n",
       "    <tr>\n",
       "      <th>AVG_GMV</th>\n",
       "      <td>-0.028948</td>\n",
       "      <td>0.895536</td>\n",
       "      <td>-0.086578</td>\n",
       "      <td>-0.088724</td>\n",
       "      <td>-0.102181</td>\n",
       "    </tr>\n",
       "    <tr>\n",
       "      <th>AVG_ORDERLINES</th>\n",
       "      <td>-0.016240</td>\n",
       "      <td>-0.016240</td>\n",
       "      <td>0.144249</td>\n",
       "      <td>-0.016240</td>\n",
       "      <td>-0.005905</td>\n",
       "    </tr>\n",
       "    <tr>\n",
       "      <th>AVG_QTY</th>\n",
       "      <td>-0.033512</td>\n",
       "      <td>0.207775</td>\n",
       "      <td>0.240893</td>\n",
       "      <td>-0.033512</td>\n",
       "      <td>-0.026200</td>\n",
       "    </tr>\n",
       "    <tr>\n",
       "      <th>AVG_COST</th>\n",
       "      <td>0.000861</td>\n",
       "      <td>0.144362</td>\n",
       "      <td>-0.108321</td>\n",
       "      <td>-0.070890</td>\n",
       "      <td>-0.086749</td>\n",
       "    </tr>\n",
       "    <tr>\n",
       "      <th>AVG_PRICE</th>\n",
       "      <td>-0.008932</td>\n",
       "      <td>0.151849</td>\n",
       "      <td>-0.106179</td>\n",
       "      <td>-0.076818</td>\n",
       "      <td>-0.092100</td>\n",
       "    </tr>\n",
       "    <tr>\n",
       "      <th>AVG_CUST_COUNT</th>\n",
       "      <td>-0.014313</td>\n",
       "      <td>-0.014313</td>\n",
       "      <td>0.140604</td>\n",
       "      <td>-0.014313</td>\n",
       "      <td>-0.003904</td>\n",
       "    </tr>\n",
       "    <tr>\n",
       "      <th>AVG_CART_ADD_DAILY</th>\n",
       "      <td>-0.026436</td>\n",
       "      <td>0.022030</td>\n",
       "      <td>0.153578</td>\n",
       "      <td>-0.026436</td>\n",
       "      <td>-0.014319</td>\n",
       "    </tr>\n",
       "    <tr>\n",
       "      <th>ADD_TO_ORDER_DAILY</th>\n",
       "      <td>0.000000</td>\n",
       "      <td>0.333333</td>\n",
       "      <td>0.190476</td>\n",
       "      <td>0.000000</td>\n",
       "      <td>0.083333</td>\n",
       "    </tr>\n",
       "    <tr>\n",
       "      <th>DATE_MONTH</th>\n",
       "      <td>0.862069</td>\n",
       "      <td>0.114943</td>\n",
       "      <td>0.000000</td>\n",
       "      <td>0.603448</td>\n",
       "      <td>0.000000</td>\n",
       "    </tr>\n",
       "    <tr>\n",
       "      <th>AVG_MONTHLY_GMV</th>\n",
       "      <td>-0.031231</td>\n",
       "      <td>0.013180</td>\n",
       "      <td>-0.009676</td>\n",
       "      <td>-0.031436</td>\n",
       "      <td>-0.021850</td>\n",
       "    </tr>\n",
       "    <tr>\n",
       "      <th>AVG_MONTHLY_ORDER_LINE</th>\n",
       "      <td>-0.021640</td>\n",
       "      <td>-0.015945</td>\n",
       "      <td>0.054954</td>\n",
       "      <td>-0.021640</td>\n",
       "      <td>0.001424</td>\n",
       "    </tr>\n",
       "    <tr>\n",
       "      <th>AVG_MONTHLY_QTY_SOLD</th>\n",
       "      <td>-0.020135</td>\n",
       "      <td>-0.011326</td>\n",
       "      <td>0.082846</td>\n",
       "      <td>-0.018876</td>\n",
       "      <td>-0.002517</td>\n",
       "    </tr>\n",
       "    <tr>\n",
       "      <th>AVG_MONTHLY_ORD_CUST</th>\n",
       "      <td>-0.022810</td>\n",
       "      <td>-0.016836</td>\n",
       "      <td>0.061491</td>\n",
       "      <td>-0.022810</td>\n",
       "      <td>0.004073</td>\n",
       "    </tr>\n",
       "    <tr>\n",
       "      <th>GMV_GROWTH</th>\n",
       "      <td>-0.064544</td>\n",
       "      <td>0.474477</td>\n",
       "      <td>-0.002518</td>\n",
       "      <td>-0.303191</td>\n",
       "      <td>0.111989</td>\n",
       "    </tr>\n",
       "    <tr>\n",
       "      <th>ORDER_LINE_GROWTH</th>\n",
       "      <td>-0.063437</td>\n",
       "      <td>0.205025</td>\n",
       "      <td>0.011391</td>\n",
       "      <td>-0.063437</td>\n",
       "      <td>0.141687</td>\n",
       "    </tr>\n",
       "    <tr>\n",
       "      <th>QTY_SOLD_GROWTH</th>\n",
       "      <td>-0.060241</td>\n",
       "      <td>0.465060</td>\n",
       "      <td>0.012829</td>\n",
       "      <td>-0.240964</td>\n",
       "      <td>0.113128</td>\n",
       "    </tr>\n",
       "    <tr>\n",
       "      <th>ORD_CUST_GROWTH</th>\n",
       "      <td>-0.062823</td>\n",
       "      <td>0.133245</td>\n",
       "      <td>0.013044</td>\n",
       "      <td>-0.062823</td>\n",
       "      <td>0.151190</td>\n",
       "    </tr>\n",
       "    <tr>\n",
       "      <th>FIRST_ADDED_COUNT</th>\n",
       "      <td>0.000000</td>\n",
       "      <td>0.000000</td>\n",
       "      <td>0.000000</td>\n",
       "      <td>0.000000</td>\n",
       "      <td>0.000000</td>\n",
       "    </tr>\n",
       "  </tbody>\n",
       "</table>\n",
       "</div>"
      ],
      "text/plain": [
       "                               0         1         2         3         4\n",
       "AVG_GMV                -0.028948  0.895536 -0.086578 -0.088724 -0.102181\n",
       "AVG_ORDERLINES         -0.016240 -0.016240  0.144249 -0.016240 -0.005905\n",
       "AVG_QTY                -0.033512  0.207775  0.240893 -0.033512 -0.026200\n",
       "AVG_COST                0.000861  0.144362 -0.108321 -0.070890 -0.086749\n",
       "AVG_PRICE              -0.008932  0.151849 -0.106179 -0.076818 -0.092100\n",
       "AVG_CUST_COUNT         -0.014313 -0.014313  0.140604 -0.014313 -0.003904\n",
       "AVG_CART_ADD_DAILY     -0.026436  0.022030  0.153578 -0.026436 -0.014319\n",
       "ADD_TO_ORDER_DAILY      0.000000  0.333333  0.190476  0.000000  0.083333\n",
       "DATE_MONTH              0.862069  0.114943  0.000000  0.603448  0.000000\n",
       "AVG_MONTHLY_GMV        -0.031231  0.013180 -0.009676 -0.031436 -0.021850\n",
       "AVG_MONTHLY_ORDER_LINE -0.021640 -0.015945  0.054954 -0.021640  0.001424\n",
       "AVG_MONTHLY_QTY_SOLD   -0.020135 -0.011326  0.082846 -0.018876 -0.002517\n",
       "AVG_MONTHLY_ORD_CUST   -0.022810 -0.016836  0.061491 -0.022810  0.004073\n",
       "GMV_GROWTH             -0.064544  0.474477 -0.002518 -0.303191  0.111989\n",
       "ORDER_LINE_GROWTH      -0.063437  0.205025  0.011391 -0.063437  0.141687\n",
       "QTY_SOLD_GROWTH        -0.060241  0.465060  0.012829 -0.240964  0.113128\n",
       "ORD_CUST_GROWTH        -0.062823  0.133245  0.013044 -0.062823  0.151190\n",
       "FIRST_ADDED_COUNT       0.000000  0.000000  0.000000  0.000000  0.000000"
      ]
     },
     "execution_count": null,
     "metadata": {},
     "output_type": "execute_result"
    }
   ],
   "source": [
    "final_df_robust_scaling.shape\n",
    "final_df_robust_scaling.head().T"
   ]
  },
  {
   "cell_type": "markdown",
   "metadata": {},
   "source": [
    "## Save data"
   ]
  },
  {
   "cell_type": "markdown",
   "metadata": {},
   "source": [
    "Save the data to nbs/data folder"
   ]
  },
  {
   "cell_type": "code",
   "execution_count": null,
   "metadata": {},
   "outputs": [],
   "source": [
    "#hide\n",
    "if use_snowflake:\n",
    "    # final_dfs\n",
    "    final_df.to_parquet('data/processed/final_df.parquet')\n",
    "    final_df_std_scaling.to_parquet('data/processed/final_df_std_scaling.parquet')\n",
    "    final_df_std_scaling.to_parquet('data/processed/final_df_robust_scaling.parquet')\n",
    "    "
   ]
  },
  {
   "cell_type": "code",
   "execution_count": null,
   "metadata": {},
   "outputs": [
    {
     "name": "stdout",
     "output_type": "stream",
     "text": [
      "Converted 00_data.ipynb.\n",
      "Converted 01_analysis.ipynb.\n",
      "Converted 02_models.ipynb.\n",
      "Converted 03_feature_importance.ipynb.\n",
      "Converted 04_validation.ipynb.\n",
      "Converted index.ipynb.\n"
     ]
    }
   ],
   "source": [
    "#hide\n",
    "from nbdev.export import notebook2script\n",
    "notebook2script()"
   ]
  },
  {
   "cell_type": "code",
   "execution_count": null,
   "metadata": {},
   "outputs": [],
   "source": []
  }
 ],
 "metadata": {
  "kernelspec": {
   "display_name": "Python 3 (ipykernel)",
   "language": "python",
   "name": "python3"
  }
 },
 "nbformat": 4,
 "nbformat_minor": 2
}
